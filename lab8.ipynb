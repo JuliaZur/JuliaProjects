{
 "cells": [
  {
   "cell_type": "code",
   "execution_count": 2,
   "metadata": {},
   "outputs": [],
   "source": [
    "import Pkg"
   ]
  },
  {
   "cell_type": "code",
   "execution_count": 3,
   "metadata": {},
   "outputs": [],
   "source": [
    "using QuadGK\n",
    "using Polynomials"
   ]
  },
  {
   "cell_type": "markdown",
   "metadata": {},
   "source": [
    "# ZADANIE 1"
   ]
  },
  {
   "cell_type": "code",
   "execution_count": 4,
   "metadata": {},
   "outputs": [
    {
     "data": {
      "text/plain": [
       "legendre (generic function with 1 method)"
      ]
     },
     "execution_count": 4,
     "metadata": {},
     "output_type": "execute_result"
    }
   ],
   "source": [
    "function legendre(k)\n",
    "    x = Poly([0,1])\n",
    "    p0 = Poly([1])\n",
    "    p1 = x\n",
    "    if k == 0\n",
    "        return p0\n",
    "    elseif k == 1\n",
    "        return p1\n",
    "    end\n",
    "    for i = 2:k\n",
    "        p2 = ((2i-1)/i)*x*p1 - ((i-1)/i)*p0\n",
    "        p0 = p1\n",
    "        p1 = p2\n",
    "    end\n",
    "    return p1\n",
    "end"
   ]
  },
  {
   "cell_type": "code",
   "execution_count": 5,
   "metadata": {},
   "outputs": [
    {
     "data": {
      "image/svg+xml": [
       "<?xml version=\"1.0\" encoding=\"utf-8\"?>\n",
       "<svg xmlns=\"http://www.w3.org/2000/svg\" xmlns:xlink=\"http://www.w3.org/1999/xlink\" width=\"600\" height=\"400\" viewBox=\"0 0 2400 1600\">\n",
       "<defs>\n",
       "  <clipPath id=\"clip8200\">\n",
       "    <rect x=\"0\" y=\"0\" width=\"2000\" height=\"2000\"/>\n",
       "  </clipPath>\n",
       "</defs>\n",
       "<defs>\n",
       "  <clipPath id=\"clip8201\">\n",
       "    <rect x=\"0\" y=\"0\" width=\"2400\" height=\"1600\"/>\n",
       "  </clipPath>\n",
       "</defs>\n",
       "<polygon clip-path=\"url(#clip8201)\" points=\"\n",
       "0,1600 2400,1600 2400,0 0,0 \n",
       "  \" fill=\"#ffffff\" fill-rule=\"evenodd\" fill-opacity=\"1\"/>\n",
       "<defs>\n",
       "  <clipPath id=\"clip8202\">\n",
       "    <rect x=\"480\" y=\"0\" width=\"1681\" height=\"1600\"/>\n",
       "  </clipPath>\n",
       "</defs>\n",
       "<polygon clip-path=\"url(#clip8201)\" points=\"\n",
       "189.504,1503.47 2321.26,1503.47 2321.26,47.2441 189.504,47.2441 \n",
       "  \" fill=\"#ffffff\" fill-rule=\"evenodd\" fill-opacity=\"1\"/>\n",
       "<defs>\n",
       "  <clipPath id=\"clip8203\">\n",
       "    <rect x=\"189\" y=\"47\" width=\"2133\" height=\"1457\"/>\n",
       "  </clipPath>\n",
       "</defs>\n",
       "<polyline clip-path=\"url(#clip8203)\" style=\"stroke:#000000; stroke-width:2; stroke-opacity:0.1; fill:none\" points=\"\n",
       "  244.899,1503.47 244.899,47.2441 \n",
       "  \"/>\n",
       "<polyline clip-path=\"url(#clip8203)\" style=\"stroke:#000000; stroke-width:2; stroke-opacity:0.1; fill:none\" points=\"\n",
       "  750.513,1503.47 750.513,47.2441 \n",
       "  \"/>\n",
       "<polyline clip-path=\"url(#clip8203)\" style=\"stroke:#000000; stroke-width:2; stroke-opacity:0.1; fill:none\" points=\"\n",
       "  1256.13,1503.47 1256.13,47.2441 \n",
       "  \"/>\n",
       "<polyline clip-path=\"url(#clip8203)\" style=\"stroke:#000000; stroke-width:2; stroke-opacity:0.1; fill:none\" points=\"\n",
       "  1761.74,1503.47 1761.74,47.2441 \n",
       "  \"/>\n",
       "<polyline clip-path=\"url(#clip8203)\" style=\"stroke:#000000; stroke-width:2; stroke-opacity:0.1; fill:none\" points=\"\n",
       "  2267.35,1503.47 2267.35,47.2441 \n",
       "  \"/>\n",
       "<polyline clip-path=\"url(#clip8203)\" style=\"stroke:#000000; stroke-width:2; stroke-opacity:0.1; fill:none\" points=\"\n",
       "  189.504,1475.81 2321.26,1475.81 \n",
       "  \"/>\n",
       "<polyline clip-path=\"url(#clip8203)\" style=\"stroke:#000000; stroke-width:2; stroke-opacity:0.1; fill:none\" points=\"\n",
       "  189.504,1128.97 2321.26,1128.97 \n",
       "  \"/>\n",
       "<polyline clip-path=\"url(#clip8203)\" style=\"stroke:#000000; stroke-width:2; stroke-opacity:0.1; fill:none\" points=\"\n",
       "  189.504,782.134 2321.26,782.134 \n",
       "  \"/>\n",
       "<polyline clip-path=\"url(#clip8203)\" style=\"stroke:#000000; stroke-width:2; stroke-opacity:0.1; fill:none\" points=\"\n",
       "  189.504,435.296 2321.26,435.296 \n",
       "  \"/>\n",
       "<polyline clip-path=\"url(#clip8203)\" style=\"stroke:#000000; stroke-width:2; stroke-opacity:0.1; fill:none\" points=\"\n",
       "  189.504,88.4582 2321.26,88.4582 \n",
       "  \"/>\n",
       "<polyline clip-path=\"url(#clip8201)\" style=\"stroke:#000000; stroke-width:4; stroke-opacity:1; fill:none\" points=\"\n",
       "  189.504,1503.47 2321.26,1503.47 \n",
       "  \"/>\n",
       "<polyline clip-path=\"url(#clip8201)\" style=\"stroke:#000000; stroke-width:4; stroke-opacity:1; fill:none\" points=\"\n",
       "  189.504,1503.47 189.504,47.2441 \n",
       "  \"/>\n",
       "<polyline clip-path=\"url(#clip8201)\" style=\"stroke:#000000; stroke-width:4; stroke-opacity:1; fill:none\" points=\"\n",
       "  244.899,1503.47 244.899,1481.63 \n",
       "  \"/>\n",
       "<polyline clip-path=\"url(#clip8201)\" style=\"stroke:#000000; stroke-width:4; stroke-opacity:1; fill:none\" points=\"\n",
       "  750.513,1503.47 750.513,1481.63 \n",
       "  \"/>\n",
       "<polyline clip-path=\"url(#clip8201)\" style=\"stroke:#000000; stroke-width:4; stroke-opacity:1; fill:none\" points=\"\n",
       "  1256.13,1503.47 1256.13,1481.63 \n",
       "  \"/>\n",
       "<polyline clip-path=\"url(#clip8201)\" style=\"stroke:#000000; stroke-width:4; stroke-opacity:1; fill:none\" points=\"\n",
       "  1761.74,1503.47 1761.74,1481.63 \n",
       "  \"/>\n",
       "<polyline clip-path=\"url(#clip8201)\" style=\"stroke:#000000; stroke-width:4; stroke-opacity:1; fill:none\" points=\"\n",
       "  2267.35,1503.47 2267.35,1481.63 \n",
       "  \"/>\n",
       "<polyline clip-path=\"url(#clip8201)\" style=\"stroke:#000000; stroke-width:4; stroke-opacity:1; fill:none\" points=\"\n",
       "  189.504,1475.81 221.48,1475.81 \n",
       "  \"/>\n",
       "<polyline clip-path=\"url(#clip8201)\" style=\"stroke:#000000; stroke-width:4; stroke-opacity:1; fill:none\" points=\"\n",
       "  189.504,1128.97 221.48,1128.97 \n",
       "  \"/>\n",
       "<polyline clip-path=\"url(#clip8201)\" style=\"stroke:#000000; stroke-width:4; stroke-opacity:1; fill:none\" points=\"\n",
       "  189.504,782.134 221.48,782.134 \n",
       "  \"/>\n",
       "<polyline clip-path=\"url(#clip8201)\" style=\"stroke:#000000; stroke-width:4; stroke-opacity:1; fill:none\" points=\"\n",
       "  189.504,435.296 221.48,435.296 \n",
       "  \"/>\n",
       "<polyline clip-path=\"url(#clip8201)\" style=\"stroke:#000000; stroke-width:4; stroke-opacity:1; fill:none\" points=\"\n",
       "  189.504,88.4582 221.48,88.4582 \n",
       "  \"/>\n",
       "<g clip-path=\"url(#clip8201)\">\n",
       "<text style=\"fill:#000000; fill-opacity:1; font-family:Arial,Helvetica Neue,Helvetica,sans-serif; font-size:48px; text-anchor:middle;\" transform=\"rotate(0, 244.899, 1557.47)\" x=\"244.899\" y=\"1557.47\">-1.0</text>\n",
       "</g>\n",
       "<g clip-path=\"url(#clip8201)\">\n",
       "<text style=\"fill:#000000; fill-opacity:1; font-family:Arial,Helvetica Neue,Helvetica,sans-serif; font-size:48px; text-anchor:middle;\" transform=\"rotate(0, 750.513, 1557.47)\" x=\"750.513\" y=\"1557.47\">-0.5</text>\n",
       "</g>\n",
       "<g clip-path=\"url(#clip8201)\">\n",
       "<text style=\"fill:#000000; fill-opacity:1; font-family:Arial,Helvetica Neue,Helvetica,sans-serif; font-size:48px; text-anchor:middle;\" transform=\"rotate(0, 1256.13, 1557.47)\" x=\"1256.13\" y=\"1557.47\">0.0</text>\n",
       "</g>\n",
       "<g clip-path=\"url(#clip8201)\">\n",
       "<text style=\"fill:#000000; fill-opacity:1; font-family:Arial,Helvetica Neue,Helvetica,sans-serif; font-size:48px; text-anchor:middle;\" transform=\"rotate(0, 1761.74, 1557.47)\" x=\"1761.74\" y=\"1557.47\">0.5</text>\n",
       "</g>\n",
       "<g clip-path=\"url(#clip8201)\">\n",
       "<text style=\"fill:#000000; fill-opacity:1; font-family:Arial,Helvetica Neue,Helvetica,sans-serif; font-size:48px; text-anchor:middle;\" transform=\"rotate(0, 2267.35, 1557.47)\" x=\"2267.35\" y=\"1557.47\">1.0</text>\n",
       "</g>\n",
       "<g clip-path=\"url(#clip8201)\">\n",
       "<text style=\"fill:#000000; fill-opacity:1; font-family:Arial,Helvetica Neue,Helvetica,sans-serif; font-size:48px; text-anchor:end;\" transform=\"rotate(0, 165.504, 1493.31)\" x=\"165.504\" y=\"1493.31\">-1.0</text>\n",
       "</g>\n",
       "<g clip-path=\"url(#clip8201)\">\n",
       "<text style=\"fill:#000000; fill-opacity:1; font-family:Arial,Helvetica Neue,Helvetica,sans-serif; font-size:48px; text-anchor:end;\" transform=\"rotate(0, 165.504, 1146.47)\" x=\"165.504\" y=\"1146.47\">-0.5</text>\n",
       "</g>\n",
       "<g clip-path=\"url(#clip8201)\">\n",
       "<text style=\"fill:#000000; fill-opacity:1; font-family:Arial,Helvetica Neue,Helvetica,sans-serif; font-size:48px; text-anchor:end;\" transform=\"rotate(0, 165.504, 799.634)\" x=\"165.504\" y=\"799.634\">0.0</text>\n",
       "</g>\n",
       "<g clip-path=\"url(#clip8201)\">\n",
       "<text style=\"fill:#000000; fill-opacity:1; font-family:Arial,Helvetica Neue,Helvetica,sans-serif; font-size:48px; text-anchor:end;\" transform=\"rotate(0, 165.504, 452.796)\" x=\"165.504\" y=\"452.796\">0.5</text>\n",
       "</g>\n",
       "<g clip-path=\"url(#clip8201)\">\n",
       "<text style=\"fill:#000000; fill-opacity:1; font-family:Arial,Helvetica Neue,Helvetica,sans-serif; font-size:48px; text-anchor:end;\" transform=\"rotate(0, 165.504, 105.958)\" x=\"165.504\" y=\"105.958\">1.0</text>\n",
       "</g>\n",
       "<polyline clip-path=\"url(#clip8203)\" style=\"stroke:#009af9; stroke-width:4; stroke-opacity:1; fill:none\" points=\"\n",
       "  264.65,88.4582 447.276,88.4582 557.026,88.4582 649.819,88.4582 750.618,88.4582 843.545,88.4582 943.173,88.4582 1058.6,88.4582 1161.18,88.4582 1251.14,88.4582 \n",
       "  1349.21,88.4582 1447.86,88.4582 1556.94,88.4582 1660.72,88.4582 1768.64,88.4582 1859.47,88.4582 1970.38,88.4582 2074.63,88.4582 2241.65,88.4582 \n",
       "  \"/>\n",
       "<polyline clip-path=\"url(#clip8203)\" style=\"stroke:#e26f46; stroke-width:4; stroke-opacity:1; fill:none\" points=\"\n",
       "  264.65,1462.26 447.276,1336.98 557.026,1261.7 649.819,1198.04 750.618,1128.9 843.545,1065.15 943.173,996.811 1058.6,917.63 1161.18,847.263 1251.14,785.557 \n",
       "  1349.21,718.282 1447.86,650.606 1556.94,575.782 1660.72,504.589 1768.64,430.565 1859.47,368.253 1970.38,292.176 2074.63,220.662 2241.65,106.09 \n",
       "  \"/>\n",
       "<polyline clip-path=\"url(#clip8203)\" style=\"stroke:#3da44d; stroke-width:4; stroke-opacity:1; fill:none\" points=\"\n",
       "  249.837,98.5948 254.775,108.682 259.712,118.719 264.65,128.707 310.306,218.708 355.963,304.467 401.619,385.984 447.276,463.259 502.151,550.524 557.026,631.66 \n",
       "  603.423,695.478 649.819,754.916 700.218,814.518 750.618,868.951 797.081,914.554 843.545,955.763 893.359,995.064 943.173,1029.31 1000.89,1062.68 1058.6,1089.27 \n",
       "  1109.89,1107.21 1161.18,1119.8 1206.16,1126.43 1251.14,1128.95 1300.17,1127 1349.21,1120.16 1398.54,1108.34 1447.86,1091.56 1502.4,1067.26 1556.94,1036.89 \n",
       "  1608.83,1002.39 1660.72,962.4 1714.68,915.012 1768.64,861.699 1814.06,812.228 1859.47,758.558 1914.93,687.343 1970.38,609.87 2022.5,531.337 2074.63,447.275 \n",
       "  2116.38,375.949 2158.14,301.075 2199.89,222.652 2241.65,140.682 2248.08,127.752 2254.5,114.738 2260.93,101.64 \n",
       "  \"/>\n",
       "<polyline clip-path=\"url(#clip8203)\" style=\"stroke:#c271d2; stroke-width:4; stroke-opacity:1; fill:none\" points=\"\n",
       "  249.837,1455.61 254.775,1435.66 259.712,1415.95 264.65,1396.49 287.478,1309.65 310.306,1227.9 333.135,1151.1 355.963,1079.15 378.791,1011.91 401.619,949.277 \n",
       "  424.448,891.123 447.276,837.331 474.713,778.278 502.151,725.145 529.589,677.723 557.026,635.805 580.224,604.504 603.423,576.862 626.621,552.756 649.819,532.058 \n",
       "  675.019,513.291 700.218,498.236 725.418,486.734 750.618,478.624 773.85,474.012 797.081,472.019 820.313,472.519 843.545,475.386 868.452,480.945 893.359,488.924 \n",
       "  918.266,499.168 943.173,511.52 972.031,528.265 1000.89,547.39 1029.75,568.653 1058.6,591.814 1161.18,685.875 1251.14,776.999 1349.21,876.559 1447.86,967.603 \n",
       "  1475.13,989.867 1502.4,1010.49 1529.67,1029.27 1556.94,1046.01 1582.89,1059.85 1608.83,1071.47 1634.78,1080.7 1660.72,1087.37 1687.7,1091.4 1714.68,1092.26 \n",
       "  1741.66,1089.77 1768.64,1083.72 1791.35,1075.73 1814.06,1064.96 1836.76,1051.29 1859.47,1034.61 1887.2,1009.99 1914.93,980.489 1942.65,945.891 1970.38,905.983 \n",
       "  1996.44,863.434 2022.5,815.826 2048.57,762.978 2074.63,704.715 2095.51,654.016 2116.38,599.636 2137.26,541.483 2158.14,479.465 2179.02,413.491 2199.89,343.47 \n",
       "  2220.77,269.309 2241.65,190.918 2248.08,165.924 2254.5,140.518 2260.93,114.697 \n",
       "  \"/>\n",
       "<polyline clip-path=\"url(#clip8203)\" style=\"stroke:#ac8d18; stroke-width:4; stroke-opacity:1; fill:none\" points=\"\n",
       "  249.837,121.959 254.775,154.724 259.712,186.762 264.65,218.08 276.064,287.77 287.478,353.765 298.892,416.165 310.306,475.07 321.721,530.579 333.135,582.789 \n",
       "  344.549,631.797 355.963,677.696 367.377,720.582 378.791,760.546 390.205,797.681 401.619,832.076 413.033,863.821 424.448,893.003 435.862,919.71 447.276,944.027 \n",
       "  460.995,970.209 474.713,993.205 488.432,1013.16 502.151,1030.2 515.87,1044.48 529.589,1056.12 543.307,1065.26 557.026,1072.02 580.224,1078.42 603.423,1078.99 \n",
       "  626.621,1074.31 649.819,1064.94 675.019,1050.07 700.218,1030.97 725.418,1008.25 750.618,982.537 797.081,929.177 843.545,870.93 893.359,806.511 943.173,743.309 \n",
       "  1000.89,675.41 1058.6,616.837 1084.25,594.623 1109.89,575.077 1135.54,558.383 1161.18,544.701 1183.67,535.28 1206.16,528.339 1228.65,523.925 1251.14,522.069 \n",
       "  1275.65,522.975 1300.17,526.93 1324.69,533.9 1349.21,543.828 1373.87,556.716 1398.54,572.403 1423.2,590.752 1447.86,611.604 1502.4,665.618 1556.94,728.432 \n",
       "  1608.83,793.55 1660.72,860.658 1714.68,928.582 1768.64,989.948 1791.35,1012.56 1814.06,1032.64 1836.76,1049.75 1859.47,1063.44 1887.2,1074.78 1914.93,1079.37 \n",
       "  1942.65,1076.25 1970.38,1064.42 1983.41,1055.55 1996.44,1044.42 2009.47,1030.92 2022.5,1014.92 2035.53,996.306 2048.57,974.967 2061.6,950.778 2074.63,923.616 \n",
       "  2085.07,899.629 2095.51,873.588 2105.95,845.428 2116.38,815.081 2126.82,782.48 2137.26,747.557 2147.7,710.241 2158.14,670.463 2168.58,628.152 2179.02,583.235 \n",
       "  2189.46,535.64 2199.89,485.294 2210.33,432.121 2220.77,376.048 2231.21,316.997 2241.65,254.893 2248.08,215.11 2254.5,174.122 2260.93,131.911 \n",
       "  \"/>\n",
       "<polyline clip-path=\"url(#clip8203)\" style=\"stroke:#00a9ad; stroke-width:4; stroke-opacity:1; fill:none\" points=\"\n",
       "  249.837,1425.86 254.775,1377.62 259.712,1331.05 264.65,1286.12 276.064,1188.33 287.478,1098.71 298.892,1016.89 310.306,942.485 321.721,875.129 333.135,814.469 \n",
       "  344.549,760.159 355.963,711.863 367.377,669.257 378.791,632.023 390.205,599.855 401.619,572.454 413.033,549.533 424.448,530.81 435.862,516.016 447.276,504.888 \n",
       "  460.995,496.008 474.713,491.633 488.432,491.36 502.151,494.797 515.87,501.573 529.589,511.331 543.307,523.733 557.026,538.455 580.224,567.771 603.423,601.457 \n",
       "  626.621,638.243 649.819,676.979 700.218,763.027 750.618,844.617 773.85,878.799 797.081,910.076 820.313,938.029 843.545,962.32 868.452,984.004 893.359,1000.96 \n",
       "  918.266,1013.06 943.173,1020.25 972.031,1022.51 1000.89,1018.42 1029.75,1008.28 1058.6,992.507 1084.25,974.175 1109.89,952.21 1135.54,927.074 1161.18,899.267 \n",
       "  1206.16,845.671 1251.14,788.552 1300.17,725.983 1349.21,667.109 1373.87,640.153 1398.54,615.616 1423.2,593.945 1447.86,575.557 1475.13,559.502 1502.4,548.369 \n",
       "  1529.67,542.532 1556.94,542.278 1582.89,547.399 1608.83,557.832 1634.78,573.567 1660.72,594.495 1687.7,621.528 1714.68,653.566 1741.66,690.095 1768.64,730.448 \n",
       "  1814.06,804.658 1859.47,882.262 1887.2,928.585 1914.93,972.012 1942.65,1010.54 1970.38,1041.94 1983.41,1053.54 1996.44,1062.73 2009.47,1069.23 2022.5,1072.73 \n",
       "  2035.53,1072.92 2048.57,1069.46 2061.6,1062.01 2074.63,1050.2 2085.07,1037.35 2095.51,1021.27 2105.95,1001.75 2116.38,978.584 2126.82,951.549 2137.26,920.423 \n",
       "  2147.7,884.976 2158.14,844.971 2168.58,800.163 2179.02,750.304 2189.46,695.137 2199.89,634.396 2210.33,567.813 2220.77,495.109 2231.21,416.001 2241.65,330.196 \n",
       "  2248.08,273.916 2254.5,214.915 2260.93,153.12 \n",
       "  \"/>\n",
       "<polygon clip-path=\"url(#clip8201)\" points=\"\n",
       "1854.08,554.124 2249.26,554.124 2249.26,130.764 1854.08,130.764 \n",
       "  \" fill=\"#ffffff\" fill-rule=\"evenodd\" fill-opacity=\"1\"/>\n",
       "<polyline clip-path=\"url(#clip8201)\" style=\"stroke:#000000; stroke-width:4; stroke-opacity:1; fill:none\" points=\"\n",
       "  1854.08,554.124 2249.26,554.124 2249.26,130.764 1854.08,130.764 1854.08,554.124 \n",
       "  \"/>\n",
       "<polyline clip-path=\"url(#clip8201)\" style=\"stroke:#009af9; stroke-width:4; stroke-opacity:1; fill:none\" points=\"\n",
       "  1878.08,191.244 2022.08,191.244 \n",
       "  \"/>\n",
       "<g clip-path=\"url(#clip8201)\">\n",
       "<text style=\"fill:#000000; fill-opacity:1; font-family:Arial,Helvetica Neue,Helvetica,sans-serif; font-size:48px; text-anchor:start;\" transform=\"rotate(0, 2046.08, 208.744)\" x=\"2046.08\" y=\"208.744\">zero</text>\n",
       "</g>\n",
       "<polyline clip-path=\"url(#clip8201)\" style=\"stroke:#e26f46; stroke-width:4; stroke-opacity:1; fill:none\" points=\"\n",
       "  1878.08,251.724 2022.08,251.724 \n",
       "  \"/>\n",
       "<g clip-path=\"url(#clip8201)\">\n",
       "<text style=\"fill:#000000; fill-opacity:1; font-family:Arial,Helvetica Neue,Helvetica,sans-serif; font-size:48px; text-anchor:start;\" transform=\"rotate(0, 2046.08, 269.224)\" x=\"2046.08\" y=\"269.224\">first</text>\n",
       "</g>\n",
       "<polyline clip-path=\"url(#clip8201)\" style=\"stroke:#3da44d; stroke-width:4; stroke-opacity:1; fill:none\" points=\"\n",
       "  1878.08,312.204 2022.08,312.204 \n",
       "  \"/>\n",
       "<g clip-path=\"url(#clip8201)\">\n",
       "<text style=\"fill:#000000; fill-opacity:1; font-family:Arial,Helvetica Neue,Helvetica,sans-serif; font-size:48px; text-anchor:start;\" transform=\"rotate(0, 2046.08, 329.704)\" x=\"2046.08\" y=\"329.704\">second</text>\n",
       "</g>\n",
       "<polyline clip-path=\"url(#clip8201)\" style=\"stroke:#c271d2; stroke-width:4; stroke-opacity:1; fill:none\" points=\"\n",
       "  1878.08,372.684 2022.08,372.684 \n",
       "  \"/>\n",
       "<g clip-path=\"url(#clip8201)\">\n",
       "<text style=\"fill:#000000; fill-opacity:1; font-family:Arial,Helvetica Neue,Helvetica,sans-serif; font-size:48px; text-anchor:start;\" transform=\"rotate(0, 2046.08, 390.184)\" x=\"2046.08\" y=\"390.184\">third</text>\n",
       "</g>\n",
       "<polyline clip-path=\"url(#clip8201)\" style=\"stroke:#ac8d18; stroke-width:4; stroke-opacity:1; fill:none\" points=\"\n",
       "  1878.08,433.164 2022.08,433.164 \n",
       "  \"/>\n",
       "<g clip-path=\"url(#clip8201)\">\n",
       "<text style=\"fill:#000000; fill-opacity:1; font-family:Arial,Helvetica Neue,Helvetica,sans-serif; font-size:48px; text-anchor:start;\" transform=\"rotate(0, 2046.08, 450.664)\" x=\"2046.08\" y=\"450.664\">forth</text>\n",
       "</g>\n",
       "<polyline clip-path=\"url(#clip8201)\" style=\"stroke:#00a9ad; stroke-width:4; stroke-opacity:1; fill:none\" points=\"\n",
       "  1878.08,493.644 2022.08,493.644 \n",
       "  \"/>\n",
       "<g clip-path=\"url(#clip8201)\">\n",
       "<text style=\"fill:#000000; fill-opacity:1; font-family:Arial,Helvetica Neue,Helvetica,sans-serif; font-size:48px; text-anchor:start;\" transform=\"rotate(0, 2046.08, 511.144)\" x=\"2046.08\" y=\"511.144\">fifth</text>\n",
       "</g>\n",
       "</svg>\n"
      ]
     },
     "execution_count": 5,
     "metadata": {},
     "output_type": "execute_result"
    }
   ],
   "source": [
    "using Plots\n",
    "plot(x->legendre(0)(x),-1,1,label=\"zero\")\n",
    "plot!(x->legendre(1)(x),-1,1,label=\"first\")\n",
    "plot!(x->legendre(2)(x),-1,1,label=\"second\")\n",
    "plot!(x->legendre(3)(x),-1,1,label=\"third\")\n",
    "plot!(x->legendre(4)(x),-1,1,label=\"forth\")\n",
    "plot!(x->legendre(5)(x),-1,1,label=\"fifth\")"
   ]
  },
  {
   "cell_type": "code",
   "execution_count": 6,
   "metadata": {},
   "outputs": [
    {
     "data": {
      "text/plain": [
       "([-0.57735, 0.57735], [-0.57735, 0.57735])"
      ]
     },
     "execution_count": 6,
     "metadata": {},
     "output_type": "execute_result"
    }
   ],
   "source": [
    "roots(legendre(2)), gauss(Float64,2)[1]"
   ]
  },
  {
   "cell_type": "code",
   "execution_count": 7,
   "metadata": {},
   "outputs": [
    {
     "data": {
      "text/plain": [
       "([-0.774597, 0.774597, 0.0], [-0.774597, 0.0, 0.774597])"
      ]
     },
     "execution_count": 7,
     "metadata": {},
     "output_type": "execute_result"
    }
   ],
   "source": [
    "roots(legendre(3)), gauss(Float64,3)[1]"
   ]
  },
  {
   "cell_type": "code",
   "execution_count": 8,
   "metadata": {},
   "outputs": [
    {
     "data": {
      "text/plain": [
       "([-0.861136, 0.861136, -0.339981, 0.339981], [-0.861136, -0.339981, 0.339981, 0.861136])"
      ]
     },
     "execution_count": 8,
     "metadata": {},
     "output_type": "execute_result"
    }
   ],
   "source": [
    "roots(legendre(4)), gauss(Float64,4)[1]"
   ]
  },
  {
   "cell_type": "markdown",
   "metadata": {},
   "source": [
    "## Podstawowe twierdzenie kwadratur Gaussa\n",
    "Odcięte $x_i$ n-punktowej kwadratury Gaussa z funkcją ważącą w(x) \n",
    "w [a,b] są zerami wielomianu ortogonalnego $φ_{n}(x)$ dla tego samego przedziału i tej samej funkcji ważącej\n",
    "\n",
    "${φ_{i}}^{n}_{i}=0$ - zbiór wielomianów ortogonalnych w [a,b]\n",
    "$φ_{n}(x)$ - ma n różnych zer $x_{1},x_{2},...,$\n",
    "\n",
    "$f(x) = \\sum_{i=1}^{n} \\prod_{j=1,j\\neq i}^{n} \\frac{x-x_{j}}{x_{i}-x_{j}} f(x_{i}) + \\frac{f^{n}(η(x))}{n!} \\prod_{i=1}^{n}(x-x_{i})$\n",
    "\n",
    "(*) $\\int\\limits_{a}^{b}w(x)f(x)dx \\approx \\sum_{i=1}^{n}a_{i}f(x_{i}), a_{i}=\\int\\limits_{a}^{b}w(x)L_{i}(x)dx$\n",
    "\n",
    "stopień dokładności $\\le$ n − 1 bo $f^{n}(η)$"
   ]
  },
  {
   "cell_type": "markdown",
   "metadata": {},
   "source": [
    "# ZADANIE 2"
   ]
  },
  {
   "cell_type": "code",
   "execution_count": 9,
   "metadata": {},
   "outputs": [
    {
     "data": {
      "text/plain": [
       "myGauss (generic function with 1 method)"
      ]
     },
     "execution_count": 9,
     "metadata": {},
     "output_type": "execute_result"
    }
   ],
   "source": [
    "function myGauss(k,f)\n",
    "   (xp,a) = gauss(Float64,k)\n",
    "    sum(a .* f.(xp)) \n",
    "end"
   ]
  },
  {
   "cell_type": "code",
   "execution_count": 10,
   "metadata": {},
   "outputs": [
    {
     "data": {
      "text/plain": [
       "0.6666666666666669"
      ]
     },
     "execution_count": 10,
     "metadata": {},
     "output_type": "execute_result"
    }
   ],
   "source": [
    "myGauss(7,x -> x^2)"
   ]
  },
  {
   "cell_type": "code",
   "execution_count": 11,
   "metadata": {},
   "outputs": [
    {
     "data": {
      "text/plain": [
       "3.999999999999999"
      ]
     },
     "execution_count": 11,
     "metadata": {},
     "output_type": "execute_result"
    }
   ],
   "source": [
    "myGauss(3,x -> 2+3*x+x*x*x)"
   ]
  },
  {
   "cell_type": "code",
   "execution_count": 12,
   "metadata": {},
   "outputs": [
    {
     "data": {
      "text/plain": [
       "true"
      ]
     },
     "execution_count": 12,
     "metadata": {},
     "output_type": "execute_result"
    }
   ],
   "source": [
    "isapprox(myGauss(7,x -> x^2),quadgk(x -> x^2,-1,1)[1])"
   ]
  },
  {
   "cell_type": "code",
   "execution_count": 13,
   "metadata": {},
   "outputs": [
    {
     "data": {
      "text/plain": [
       "true"
      ]
     },
     "execution_count": 13,
     "metadata": {},
     "output_type": "execute_result"
    }
   ],
   "source": [
    "isapprox(myGauss(3,x -> 2+3*x+x*x*x),quadgk(x -> 2+3*x+x*x*x,-1,1)[1])"
   ]
  },
  {
   "cell_type": "code",
   "execution_count": 14,
   "metadata": {},
   "outputs": [
    {
     "data": {
      "text/plain": [
       "false"
      ]
     },
     "execution_count": 14,
     "metadata": {},
     "output_type": "execute_result"
    }
   ],
   "source": [
    "isapprox(1.2e-323, 0)"
   ]
  },
  {
   "cell_type": "code",
   "execution_count": 15,
   "metadata": {},
   "outputs": [
    {
     "data": {
      "text/plain": [
       "true"
      ]
     },
     "execution_count": 15,
     "metadata": {},
     "output_type": "execute_result"
    }
   ],
   "source": [
    "isapprox(1.2e-324, 0)"
   ]
  },
  {
   "cell_type": "code",
   "execution_count": 16,
   "metadata": {},
   "outputs": [],
   "source": [
    "using DataFrames"
   ]
  },
  {
   "cell_type": "code",
   "execution_count": 17,
   "metadata": {},
   "outputs": [],
   "source": [
    "compare = DataFrame(k = Int64[], myGauss = Float64[], quadqk = Float64[], approx = Bool[])\n",
    "d = Int64[]\n",
    "for i in 1:1:20\n",
    "    append!(d,[Int64(i)])\n",
    "    p = poly(d)\n",
    "    for k in 1:1:5\n",
    "        a = myGauss(k,p)\n",
    "        b = quadgk(p,-1,1)[1]\n",
    "        push!(compare,[k, a, b, (isapprox(a,b))])     \n",
    "    end\n",
    "end "
   ]
  },
  {
   "cell_type": "code",
   "execution_count": 18,
   "metadata": {},
   "outputs": [
    {
     "data": {
      "text/html": [
       "<table class=\"data-frame\"><thead><tr><th></th><th>k</th><th>myGauss</th><th>quadqk</th><th>approx</th></tr><tr><th></th><th>Int64</th><th>Float64</th><th>Float64</th><th>Bool</th></tr></thead><tbody><p>100 rows × 4 columns</p><tr><th>1</th><td>1</td><td>-2.0</td><td>-2.0</td><td>true</td></tr><tr><th>2</th><td>2</td><td>-2.0</td><td>-2.0</td><td>true</td></tr><tr><th>3</th><td>3</td><td>-2.0</td><td>-2.0</td><td>true</td></tr><tr><th>4</th><td>4</td><td>-2.0</td><td>-2.0</td><td>true</td></tr><tr><th>5</th><td>5</td><td>-2.0</td><td>-2.0</td><td>true</td></tr><tr><th>6</th><td>1</td><td>4.0</td><td>4.66667</td><td>false</td></tr><tr><th>7</th><td>2</td><td>4.66667</td><td>4.66667</td><td>true</td></tr><tr><th>8</th><td>3</td><td>4.66667</td><td>4.66667</td><td>true</td></tr><tr><th>9</th><td>4</td><td>4.66667</td><td>4.66667</td><td>true</td></tr><tr><th>10</th><td>5</td><td>4.66667</td><td>4.66667</td><td>true</td></tr><tr><th>11</th><td>1</td><td>-12.0</td><td>-16.0</td><td>false</td></tr><tr><th>12</th><td>2</td><td>-16.0</td><td>-16.0</td><td>true</td></tr><tr><th>13</th><td>3</td><td>-16.0</td><td>-16.0</td><td>true</td></tr><tr><th>14</th><td>4</td><td>-16.0</td><td>-16.0</td><td>true</td></tr><tr><th>15</th><td>5</td><td>-16.0</td><td>-16.0</td><td>true</td></tr><tr><th>16</th><td>1</td><td>48.0</td><td>71.7333</td><td>false</td></tr><tr><th>17</th><td>2</td><td>71.5556</td><td>71.7333</td><td>false</td></tr><tr><th>18</th><td>3</td><td>71.7333</td><td>71.7333</td><td>true</td></tr><tr><th>19</th><td>4</td><td>71.7333</td><td>71.7333</td><td>true</td></tr><tr><th>20</th><td>5</td><td>71.7333</td><td>71.7333</td><td>true</td></tr><tr><th>21</th><td>1</td><td>-240.0</td><td>-396.0</td><td>false</td></tr><tr><th>22</th><td>2</td><td>-393.333</td><td>-396.0</td><td>false</td></tr><tr><th>23</th><td>3</td><td>-396.0</td><td>-396.0</td><td>true</td></tr><tr><th>24</th><td>4</td><td>-396.0</td><td>-396.0</td><td>true</td></tr><tr><th>25</th><td>5</td><td>-396.0</td><td>-396.0</td><td>true</td></tr><tr><th>26</th><td>1</td><td>1440.0</td><td>2592.95</td><td>false</td></tr><tr><th>27</th><td>2</td><td>2561.63</td><td>2592.95</td><td>false</td></tr><tr><th>28</th><td>3</td><td>2592.91</td><td>2592.95</td><td>false</td></tr><tr><th>29</th><td>4</td><td>2592.95</td><td>2592.95</td><td>true</td></tr><tr><th>30</th><td>5</td><td>2592.95</td><td>2592.95</td><td>true</td></tr><tr><th>&vellip;</th><td>&vellip;</td><td>&vellip;</td><td>&vellip;</td><td>&vellip;</td></tr></tbody></table>"
      ],
      "text/latex": [
       "\\begin{tabular}{r|cccc}\n",
       "\t& k & myGauss & quadqk & approx\\\\\n",
       "\t\\hline\n",
       "\t1 & 1 & -2.0 & -2.0 & true \\\\\n",
       "\t2 & 2 & -2.0 & -2.0 & true \\\\\n",
       "\t3 & 3 & -2.0 & -2.0 & true \\\\\n",
       "\t4 & 4 & -2.0 & -2.0 & true \\\\\n",
       "\t5 & 5 & -2.0 & -2.0 & true \\\\\n",
       "\t6 & 1 & 4.0 & 4.66667 & false \\\\\n",
       "\t7 & 2 & 4.66667 & 4.66667 & true \\\\\n",
       "\t8 & 3 & 4.66667 & 4.66667 & true \\\\\n",
       "\t9 & 4 & 4.66667 & 4.66667 & true \\\\\n",
       "\t10 & 5 & 4.66667 & 4.66667 & true \\\\\n",
       "\t11 & 1 & -12.0 & -16.0 & false \\\\\n",
       "\t12 & 2 & -16.0 & -16.0 & true \\\\\n",
       "\t13 & 3 & -16.0 & -16.0 & true \\\\\n",
       "\t14 & 4 & -16.0 & -16.0 & true \\\\\n",
       "\t15 & 5 & -16.0 & -16.0 & true \\\\\n",
       "\t16 & 1 & 48.0 & 71.7333 & false \\\\\n",
       "\t17 & 2 & 71.5556 & 71.7333 & false \\\\\n",
       "\t18 & 3 & 71.7333 & 71.7333 & true \\\\\n",
       "\t19 & 4 & 71.7333 & 71.7333 & true \\\\\n",
       "\t20 & 5 & 71.7333 & 71.7333 & true \\\\\n",
       "\t21 & 1 & -240.0 & -396.0 & false \\\\\n",
       "\t22 & 2 & -393.333 & -396.0 & false \\\\\n",
       "\t23 & 3 & -396.0 & -396.0 & true \\\\\n",
       "\t24 & 4 & -396.0 & -396.0 & true \\\\\n",
       "\t25 & 5 & -396.0 & -396.0 & true \\\\\n",
       "\t26 & 1 & 1440.0 & 2592.95 & false \\\\\n",
       "\t27 & 2 & 2561.63 & 2592.95 & false \\\\\n",
       "\t28 & 3 & 2592.91 & 2592.95 & false \\\\\n",
       "\t29 & 4 & 2592.95 & 2592.95 & true \\\\\n",
       "\t30 & 5 & 2592.95 & 2592.95 & true \\\\\n",
       "\t31 & 1 & -10080.0 & -19626.7 & false \\\\\n",
       "\t32 & 2 & -19272.3 & -19626.7 & false \\\\\n",
       "\t33 & 3 & -19625.4 & -19626.7 & false \\\\\n",
       "\t34 & 4 & -19626.7 & -19626.7 & true \\\\\n",
       "\t35 & 5 & -19626.7 & -19626.7 & true \\\\\n",
       "\t36 & 1 & 80640.0 & 1.68525e5 & false \\\\\n",
       "\t37 & 2 & 1.64418e5 & 1.68525e5 & false \\\\\n",
       "\t38 & 3 & 1.685e5 & 1.68525e5 & false \\\\\n",
       "\t39 & 4 & 1.68525e5 & 1.68525e5 & false \\\\\n",
       "\t40 & 5 & 1.68525e5 & 1.68525e5 & true \\\\\n",
       "\t41 & 1 & -725760.0 & -1.618e6 & false \\\\\n",
       "\t42 & 2 & -1.56811e6 & -1.618e6 & false \\\\\n",
       "\t43 & 3 & -1.61756e6 & -1.618e6 & false \\\\\n",
       "\t44 & 4 & -1.618e6 & -1.618e6 & false \\\\\n",
       "\t45 & 5 & -1.618e6 & -1.618e6 & true \\\\\n",
       "\t46 & 1 & 7.2576e6 & 1.71721e7 & false \\\\\n",
       "\t47 & 2 & 1.6531e7 & 1.71721e7 & false \\\\\n",
       "\t48 & 3 & 1.71648e7 & 1.71721e7 & false \\\\\n",
       "\t49 & 4 & 1.71721e7 & 1.71721e7 & false \\\\\n",
       "\t50 & 5 & 1.71721e7 & 1.71721e7 & true \\\\\n",
       "\t51 & 1 & -7.98336e7 & -1.99605e8 & false \\\\\n",
       "\t52 & 2 & -1.90863e8 & -1.99605e8 & false \\\\\n",
       "\t53 & 3 & -1.99482e8 & -1.99605e8 & false \\\\\n",
       "\t54 & 4 & -1.99604e8 & -1.99605e8 & false \\\\\n",
       "\t55 & 5 & -1.99605e8 & -1.99605e8 & true \\\\\n",
       "\t56 & 1 & 9.58003e8 & 2.52161e9 & false \\\\\n",
       "\t57 & 2 & 2.39511e9 & 2.52161e9 & false \\\\\n",
       "\t58 & 3 & 2.5195e9 & 2.52161e9 & false \\\\\n",
       "\t59 & 4 & 2.5216e9 & 2.52161e9 & false \\\\\n",
       "\t60 & 5 & 2.52161e9 & 2.52161e9 & true \\\\\n",
       "\t61 & 1 & -1.2454e10 & -3.4398e10 & false \\\\\n",
       "\t62 & 2 & -3.2457e10 & -3.4398e10 & false \\\\\n",
       "\t63 & 3 & -3.43605e10 & -3.4398e10 & false \\\\\n",
       "\t64 & 4 & -3.43978e10 & -3.4398e10 & false \\\\\n",
       "\t65 & 5 & -3.4398e10 & -3.4398e10 & true \\\\\n",
       "\t66 & 1 & 1.74357e11 & 5.03882e11 & false \\\\\n",
       "\t67 & 2 & 4.72365e11 & 5.03882e11 & false \\\\\n",
       "\t68 & 3 & 5.03195e11 & 5.03882e11 & false \\\\\n",
       "\t69 & 4 & 5.03878e11 & 5.03882e11 & false \\\\\n",
       "\t70 & 5 & 5.03882e11 & 5.03882e11 & false \\\\\n",
       "\t71 & 1 & -2.61535e12 & -7.8884e12 & false \\\\\n",
       "\t72 & 2 & -7.34782e12 & -7.8884e12 & false \\\\\n",
       "\t73 & 3 & -7.87528e12 & -7.8884e12 & false \\\\\n",
       "\t74 & 4 & -7.8883e12 & -7.8884e12 & false \\\\\n",
       "\t75 & 5 & -7.8884e12 & -7.8884e12 & false \\\\\n",
       "\t76 & 1 & 4.18456e13 & 1.31431e14 & false \\\\\n",
       "\t77 & 2 & 1.21658e14 & 1.31431e14 & false \\\\\n",
       "\t78 & 3 & 1.3117e14 & 1.31431e14 & false \\\\\n",
       "\t79 & 4 & 1.31429e14 & 1.31431e14 & false \\\\\n",
       "\t80 & 5 & 1.31431e14 & 1.31431e14 & false \\\\\n",
       "\t81 & 1 & -7.11375e14 & -2.32196e15 & false \\\\\n",
       "\t82 & 2 & -2.13612e15 & -2.32196e15 & false \\\\\n",
       "\t83 & 3 & -2.31658e15 & -2.32196e15 & false \\\\\n",
       "\t84 & 4 & -2.32191e15 & -2.32196e15 & false \\\\\n",
       "\t85 & 5 & -2.32196e15 & -2.32196e15 & false \\\\\n",
       "\t86 & 1 & 1.28047e16 & 4.33553e16 & false \\\\\n",
       "\t87 & 2 & 3.96455e16 & 4.33553e16 & false \\\\\n",
       "\t88 & 3 & 4.32395e16 & 4.33553e16 & false \\\\\n",
       "\t89 & 4 & 4.3354e16 & 4.33553e16 & false \\\\\n",
       "\t90 & 5 & 4.33552e16 & 4.33553e16 & false \\\\\n",
       "\t91 & 1 & -2.4329e17 & -8.53081e17 & false \\\\\n",
       "\t92 & 2 & -7.75493e17 & -8.53081e17 & false \\\\\n",
       "\t93 & 3 & -8.50491e17 & -8.53081e17 & false \\\\\n",
       "\t94 & 4 & -8.5305e17 & -8.53081e17 & false \\\\\n",
       "\t95 & 5 & -8.5308e17 & -8.53081e17 & false \\\\\n",
       "\t96 & 1 & 4.8658e18 & 5.34461e18 & false \\\\\n",
       "\t97 & 2 & 3.64761e18 & 5.34461e18 & false \\\\\n",
       "\t98 & 3 & 5.28439e18 & 5.34461e18 & false \\\\\n",
       "\t99 & 4 & 5.34384e18 & 5.34461e18 & false \\\\\n",
       "\t100 & 5 & 5.3446e18 & 5.34461e18 & false \\\\\n",
       "\\end{tabular}\n"
      ],
      "text/plain": [
       "100×4 DataFrame\n",
       "│ Row │ k     │ myGauss     │ quadqk      │ approx │\n",
       "│     │ \u001b[90mInt64\u001b[39m │ \u001b[90mFloat64\u001b[39m     │ \u001b[90mFloat64\u001b[39m     │ \u001b[90mBool\u001b[39m   │\n",
       "├─────┼───────┼─────────────┼─────────────┼────────┤\n",
       "│ 1   │ 1     │ -2.0        │ -2.0        │ true   │\n",
       "│ 2   │ 2     │ -2.0        │ -2.0        │ true   │\n",
       "│ 3   │ 3     │ -2.0        │ -2.0        │ true   │\n",
       "│ 4   │ 4     │ -2.0        │ -2.0        │ true   │\n",
       "│ 5   │ 5     │ -2.0        │ -2.0        │ true   │\n",
       "│ 6   │ 1     │ 4.0         │ 4.66667     │ false  │\n",
       "│ 7   │ 2     │ 4.66667     │ 4.66667     │ true   │\n",
       "│ 8   │ 3     │ 4.66667     │ 4.66667     │ true   │\n",
       "│ 9   │ 4     │ 4.66667     │ 4.66667     │ true   │\n",
       "│ 10  │ 5     │ 4.66667     │ 4.66667     │ true   │\n",
       "⋮\n",
       "│ 90  │ 5     │ 4.33552e16  │ 4.33553e16  │ false  │\n",
       "│ 91  │ 1     │ -2.4329e17  │ -8.53081e17 │ false  │\n",
       "│ 92  │ 2     │ -7.75493e17 │ -8.53081e17 │ false  │\n",
       "│ 93  │ 3     │ -8.50491e17 │ -8.53081e17 │ false  │\n",
       "│ 94  │ 4     │ -8.5305e17  │ -8.53081e17 │ false  │\n",
       "│ 95  │ 5     │ -8.5308e17  │ -8.53081e17 │ false  │\n",
       "│ 96  │ 1     │ 4.8658e18   │ 5.34461e18  │ false  │\n",
       "│ 97  │ 2     │ 3.64761e18  │ 5.34461e18  │ false  │\n",
       "│ 98  │ 3     │ 5.28439e18  │ 5.34461e18  │ false  │\n",
       "│ 99  │ 4     │ 5.34384e18  │ 5.34461e18  │ false  │\n",
       "│ 100 │ 5     │ 5.3446e18   │ 5.34461e18  │ false  │"
      ]
     },
     "execution_count": 18,
     "metadata": {},
     "output_type": "execute_result"
    },
    {
     "name": "stderr",
     "output_type": "stream",
     "text": [
      "┌ Warning: In the future eachcol will have names argument set to false by default\n",
      "│   caller = getmaxwidths(::DataFrame, ::UnitRange{Int64}, ::UnitRange{Int64}, ::Symbol) at show.jl:105\n",
      "└ @ DataFrames /Applications/JuliaPro-1.0.1.1.app/Contents/Resources/pkgs-1.0.1.1/packages/DataFrames/5Rg4Y/src/abstractdataframe/show.jl:105\n"
     ]
    }
   ],
   "source": [
    "compare"
   ]
  },
  {
   "cell_type": "markdown",
   "metadata": {},
   "source": [
    "## Twierdzenie o stopniu dokładności kwadratury Gaussa\n",
    "Teza:\n",
    "Kwadratura ma stopień dokładności 2n − 1, tzn. jest dokładna dla wielomianu:\n",
    "\n",
    "$P(x) = Q(x) · φ_{n}(x) + R(x)$ Q, R−stopnia < n"
   ]
  },
  {
   "cell_type": "markdown",
   "metadata": {},
   "source": [
    "# ZADANIE 3"
   ]
  },
  {
   "cell_type": "code",
   "execution_count": 19,
   "metadata": {},
   "outputs": [
    {
     "data": {
      "text/plain": [
       "intAB (generic function with 1 method)"
      ]
     },
     "execution_count": 19,
     "metadata": {},
     "output_type": "execute_result"
    }
   ],
   "source": [
    "function intAB(a,b,f)\n",
    "    fz(z) = f((b+a)/2 + (b-a)/2*z)\n",
    "    return ((b-a)/2*myGauss(5,fz))\n",
    "end"
   ]
  },
  {
   "cell_type": "code",
   "execution_count": 20,
   "metadata": {},
   "outputs": [
    {
     "data": {
      "text/plain": [
       "0.6666666666666667"
      ]
     },
     "execution_count": 20,
     "metadata": {},
     "output_type": "execute_result"
    }
   ],
   "source": [
    "intAB(-1,1,x -> x^2)"
   ]
  },
  {
   "cell_type": "code",
   "execution_count": 21,
   "metadata": {},
   "outputs": [
    {
     "data": {
      "text/plain": [
       "true"
      ]
     },
     "execution_count": 21,
     "metadata": {},
     "output_type": "execute_result"
    }
   ],
   "source": [
    "isapprox(intAB(-1,1,x -> x^2),quadgk(x -> x^2,-1,1)[1])"
   ]
  },
  {
   "cell_type": "code",
   "execution_count": 22,
   "metadata": {},
   "outputs": [
    {
     "data": {
      "text/plain": [
       "3.9999999999999996"
      ]
     },
     "execution_count": 22,
     "metadata": {},
     "output_type": "execute_result"
    }
   ],
   "source": [
    "intAB(-1,1,x -> 2+3*x+x*x*x)"
   ]
  },
  {
   "cell_type": "code",
   "execution_count": 23,
   "metadata": {},
   "outputs": [
    {
     "data": {
      "text/plain": [
       "true"
      ]
     },
     "execution_count": 23,
     "metadata": {},
     "output_type": "execute_result"
    }
   ],
   "source": [
    "isapprox(intAB(-1,1,x -> 2+3*x+x*x*x),quadgk(x -> 2+3*x+x*x*x,-1,1)[1])"
   ]
  },
  {
   "cell_type": "code",
   "execution_count": 24,
   "metadata": {},
   "outputs": [
    {
     "data": {
      "text/html": [
       "<table class=\"data-frame\"><thead><tr><th></th><th>a</th><th>b</th><th>intAB</th><th>quadqk</th><th>approx</th></tr><tr><th></th><th>Int64</th><th>Int64</th><th>Float64</th><th>Float64</th><th>Bool</th></tr></thead><tbody><p>20 rows × 5 columns</p><tr><th>1</th><td>-1</td><td>1</td><td>-2.0</td><td>-2.0</td><td>true</td></tr><tr><th>2</th><td>-2</td><td>2</td><td>13.3333</td><td>13.3333</td><td>true</td></tr><tr><th>3</th><td>-3</td><td>3</td><td>-144.0</td><td>-144.0</td><td>true</td></tr><tr><th>4</th><td>-4</td><td>4</td><td>2094.93</td><td>2094.93</td><td>true</td></tr><tr><th>5</th><td>-5</td><td>5</td><td>-38700.0</td><td>-38700.0</td><td>true</td></tr><tr><th>6</th><td>-6</td><td>6</td><td>8.66798e5</td><td>8.66798e5</td><td>true</td></tr><tr><th>7</th><td>-7</td><td>7</td><td>-2.28384e7</td><td>-2.28384e7</td><td>true</td></tr><tr><th>8</th><td>-8</td><td>8</td><td>6.9219e8</td><td>6.9219e8</td><td>true</td></tr><tr><th>9</th><td>-9</td><td>9</td><td>-2.3726e10</td><td>-2.3726e10</td><td>true</td></tr><tr><th>10</th><td>-10</td><td>10</td><td>9.07254e11</td><td>9.07547e11</td><td>false</td></tr><tr><th>11</th><td>-11</td><td>11</td><td>-3.82704e13</td><td>-3.83256e13</td><td>false</td></tr><tr><th>12</th><td>-12</td><td>12</td><td>1.76433e15</td><td>1.7711e15</td><td>false</td></tr><tr><th>13</th><td>-13</td><td>13</td><td>-8.82042e16</td><td>-8.89031e16</td><td>false</td></tr><tr><th>14</th><td>-14</td><td>14</td><td>4.75051e18</td><td>4.81707e18</td><td>false</td></tr><tr><th>15</th><td>-15</td><td>15</td><td>-2.74099e20</td><td>-2.80217e20</td><td>false</td></tr><tr><th>16</th><td>-16</td><td>16</td><td>1.68622e22</td><td>1.74187e22</td><td>false</td></tr><tr><th>17</th><td>-17</td><td>17</td><td>-1.10145e24</td><td>-1.15229e24</td><td>false</td></tr><tr><th>18</th><td>-18</td><td>18</td><td>7.61198e25</td><td>8.08267e25</td><td>false</td></tr><tr><th>19</th><td>-19</td><td>19</td><td>-5.548e27</td><td>-5.99226e27</td><td>false</td></tr><tr><th>20</th><td>-20</td><td>20</td><td>4.25268e29</td><td>4.68178e29</td><td>false</td></tr></tbody></table>"
      ],
      "text/latex": [
       "\\begin{tabular}{r|ccccc}\n",
       "\t& a & b & intAB & quadqk & approx\\\\\n",
       "\t\\hline\n",
       "\t1 & -1 & 1 & -2.0 & -2.0 & true \\\\\n",
       "\t2 & -2 & 2 & 13.3333 & 13.3333 & true \\\\\n",
       "\t3 & -3 & 3 & -144.0 & -144.0 & true \\\\\n",
       "\t4 & -4 & 4 & 2094.93 & 2094.93 & true \\\\\n",
       "\t5 & -5 & 5 & -38700.0 & -38700.0 & true \\\\\n",
       "\t6 & -6 & 6 & 8.66798e5 & 8.66798e5 & true \\\\\n",
       "\t7 & -7 & 7 & -2.28384e7 & -2.28384e7 & true \\\\\n",
       "\t8 & -8 & 8 & 6.9219e8 & 6.9219e8 & true \\\\\n",
       "\t9 & -9 & 9 & -2.3726e10 & -2.3726e10 & true \\\\\n",
       "\t10 & -10 & 10 & 9.07254e11 & 9.07547e11 & false \\\\\n",
       "\t11 & -11 & 11 & -3.82704e13 & -3.83256e13 & false \\\\\n",
       "\t12 & -12 & 12 & 1.76433e15 & 1.7711e15 & false \\\\\n",
       "\t13 & -13 & 13 & -8.82042e16 & -8.89031e16 & false \\\\\n",
       "\t14 & -14 & 14 & 4.75051e18 & 4.81707e18 & false \\\\\n",
       "\t15 & -15 & 15 & -2.74099e20 & -2.80217e20 & false \\\\\n",
       "\t16 & -16 & 16 & 1.68622e22 & 1.74187e22 & false \\\\\n",
       "\t17 & -17 & 17 & -1.10145e24 & -1.15229e24 & false \\\\\n",
       "\t18 & -18 & 18 & 7.61198e25 & 8.08267e25 & false \\\\\n",
       "\t19 & -19 & 19 & -5.548e27 & -5.99226e27 & false \\\\\n",
       "\t20 & -20 & 20 & 4.25268e29 & 4.68178e29 & false \\\\\n",
       "\\end{tabular}\n"
      ],
      "text/plain": [
       "20×5 DataFrame\n",
       "│ Row │ a     │ b     │ intAB       │ quadqk      │ approx │\n",
       "│     │ \u001b[90mInt64\u001b[39m │ \u001b[90mInt64\u001b[39m │ \u001b[90mFloat64\u001b[39m     │ \u001b[90mFloat64\u001b[39m     │ \u001b[90mBool\u001b[39m   │\n",
       "├─────┼───────┼───────┼─────────────┼─────────────┼────────┤\n",
       "│ 1   │ -1    │ 1     │ -2.0        │ -2.0        │ true   │\n",
       "│ 2   │ -2    │ 2     │ 13.3333     │ 13.3333     │ true   │\n",
       "│ 3   │ -3    │ 3     │ -144.0      │ -144.0      │ true   │\n",
       "│ 4   │ -4    │ 4     │ 2094.93     │ 2094.93     │ true   │\n",
       "│ 5   │ -5    │ 5     │ -38700.0    │ -38700.0    │ true   │\n",
       "│ 6   │ -6    │ 6     │ 8.66798e5   │ 8.66798e5   │ true   │\n",
       "│ 7   │ -7    │ 7     │ -2.28384e7  │ -2.28384e7  │ true   │\n",
       "│ 8   │ -8    │ 8     │ 6.9219e8    │ 6.9219e8    │ true   │\n",
       "│ 9   │ -9    │ 9     │ -2.3726e10  │ -2.3726e10  │ true   │\n",
       "│ 10  │ -10   │ 10    │ 9.07254e11  │ 9.07547e11  │ false  │\n",
       "│ 11  │ -11   │ 11    │ -3.82704e13 │ -3.83256e13 │ false  │\n",
       "│ 12  │ -12   │ 12    │ 1.76433e15  │ 1.7711e15   │ false  │\n",
       "│ 13  │ -13   │ 13    │ -8.82042e16 │ -8.89031e16 │ false  │\n",
       "│ 14  │ -14   │ 14    │ 4.75051e18  │ 4.81707e18  │ false  │\n",
       "│ 15  │ -15   │ 15    │ -2.74099e20 │ -2.80217e20 │ false  │\n",
       "│ 16  │ -16   │ 16    │ 1.68622e22  │ 1.74187e22  │ false  │\n",
       "│ 17  │ -17   │ 17    │ -1.10145e24 │ -1.15229e24 │ false  │\n",
       "│ 18  │ -18   │ 18    │ 7.61198e25  │ 8.08267e25  │ false  │\n",
       "│ 19  │ -19   │ 19    │ -5.548e27   │ -5.99226e27 │ false  │\n",
       "│ 20  │ -20   │ 20    │ 4.25268e29  │ 4.68178e29  │ false  │"
      ]
     },
     "execution_count": 24,
     "metadata": {},
     "output_type": "execute_result"
    }
   ],
   "source": [
    "compare2 = DataFrame(a = Int64[], b = Int64[], intAB = Float64[], quadqk = Float64[], approx = Bool[])\n",
    "d = Int64[]\n",
    "a = -1\n",
    "b = 1\n",
    "for i in 1:1:20\n",
    "    append!(d,[Int64(i)])\n",
    "    p = poly(d)\n",
    "    x = intAB(a,b,p)\n",
    "    y = quadgk(p,a,b)[1]\n",
    "    push!(compare2,[a,b,x,y,(isapprox(x,y))])\n",
    "    a = a-1\n",
    "    b = b+1\n",
    "end \n",
    "compare2"
   ]
  },
  {
   "cell_type": "markdown",
   "metadata": {},
   "source": [
    "# ZADANIE 4"
   ]
  },
  {
   "cell_type": "code",
   "execution_count": 25,
   "metadata": {},
   "outputs": [
    {
     "data": {
      "text/plain": [
       "(3.333333333333333, 0.0)"
      ]
     },
     "execution_count": 25,
     "metadata": {},
     "output_type": "execute_result"
    }
   ],
   "source": [
    "quadgk(x->2+x-x*x,-1,1)"
   ]
  },
  {
   "cell_type": "code",
   "execution_count": 26,
   "metadata": {},
   "outputs": [
    {
     "data": {
      "text/plain": [
       "normalGaussFun (generic function with 1 method)"
      ]
     },
     "execution_count": 26,
     "metadata": {},
     "output_type": "execute_result"
    }
   ],
   "source": [
    "normalGaussFun(x) = (1/√(2*pi))*exp((-x^2)/2)"
   ]
  },
  {
   "cell_type": "code",
   "execution_count": 27,
   "metadata": {},
   "outputs": [
    {
     "data": {
      "text/plain": [
       "(1.0000000000032583, 1.4395584941504537e-8)"
      ]
     },
     "execution_count": 27,
     "metadata": {},
     "output_type": "execute_result"
    }
   ],
   "source": [
    "quadgk(normalGaussFun,-Inf,+Inf)"
   ]
  },
  {
   "cell_type": "code",
   "execution_count": 28,
   "metadata": {},
   "outputs": [
    {
     "data": {
      "image/svg+xml": [
       "<?xml version=\"1.0\" encoding=\"utf-8\"?>\n",
       "<svg xmlns=\"http://www.w3.org/2000/svg\" xmlns:xlink=\"http://www.w3.org/1999/xlink\" width=\"600\" height=\"400\" viewBox=\"0 0 2400 1600\">\n",
       "<defs>\n",
       "  <clipPath id=\"clip8400\">\n",
       "    <rect x=\"0\" y=\"0\" width=\"2000\" height=\"2000\"/>\n",
       "  </clipPath>\n",
       "</defs>\n",
       "<defs>\n",
       "  <clipPath id=\"clip8401\">\n",
       "    <rect x=\"0\" y=\"0\" width=\"2400\" height=\"1600\"/>\n",
       "  </clipPath>\n",
       "</defs>\n",
       "<polygon clip-path=\"url(#clip8401)\" points=\"\n",
       "0,1600 2400,1600 2400,0 0,0 \n",
       "  \" fill=\"#ffffff\" fill-rule=\"evenodd\" fill-opacity=\"1\"/>\n",
       "<defs>\n",
       "  <clipPath id=\"clip8402\">\n",
       "    <rect x=\"480\" y=\"0\" width=\"1681\" height=\"1600\"/>\n",
       "  </clipPath>\n",
       "</defs>\n",
       "<polygon clip-path=\"url(#clip8401)\" points=\"\n",
       "161.394,1503.47 2321.26,1503.47 2321.26,47.2441 161.394,47.2441 \n",
       "  \" fill=\"#ffffff\" fill-rule=\"evenodd\" fill-opacity=\"1\"/>\n",
       "<defs>\n",
       "  <clipPath id=\"clip8403\">\n",
       "    <rect x=\"161\" y=\"47\" width=\"2161\" height=\"1457\"/>\n",
       "  </clipPath>\n",
       "</defs>\n",
       "<polyline clip-path=\"url(#clip8403)\" style=\"stroke:#000000; stroke-width:2; stroke-opacity:0.1; fill:none\" points=\"\n",
       "  202.166,1503.47 202.166,47.2441 \n",
       "  \"/>\n",
       "<polyline clip-path=\"url(#clip8403)\" style=\"stroke:#000000; stroke-width:2; stroke-opacity:0.1; fill:none\" points=\"\n",
       "  723.28,1503.47 723.28,47.2441 \n",
       "  \"/>\n",
       "<polyline clip-path=\"url(#clip8403)\" style=\"stroke:#000000; stroke-width:2; stroke-opacity:0.1; fill:none\" points=\"\n",
       "  1244.39,1503.47 1244.39,47.2441 \n",
       "  \"/>\n",
       "<polyline clip-path=\"url(#clip8403)\" style=\"stroke:#000000; stroke-width:2; stroke-opacity:0.1; fill:none\" points=\"\n",
       "  1765.51,1503.47 1765.51,47.2441 \n",
       "  \"/>\n",
       "<polyline clip-path=\"url(#clip8403)\" style=\"stroke:#000000; stroke-width:2; stroke-opacity:0.1; fill:none\" points=\"\n",
       "  2286.62,1503.47 2286.62,47.2441 \n",
       "  \"/>\n",
       "<polyline clip-path=\"url(#clip8403)\" style=\"stroke:#000000; stroke-width:2; stroke-opacity:0.1; fill:none\" points=\"\n",
       "  161.394,1462.26 2321.26,1462.26 \n",
       "  \"/>\n",
       "<polyline clip-path=\"url(#clip8403)\" style=\"stroke:#000000; stroke-width:2; stroke-opacity:0.1; fill:none\" points=\"\n",
       "  161.394,1117.88 2321.26,1117.88 \n",
       "  \"/>\n",
       "<polyline clip-path=\"url(#clip8403)\" style=\"stroke:#000000; stroke-width:2; stroke-opacity:0.1; fill:none\" points=\"\n",
       "  161.394,773.495 2321.26,773.495 \n",
       "  \"/>\n",
       "<polyline clip-path=\"url(#clip8403)\" style=\"stroke:#000000; stroke-width:2; stroke-opacity:0.1; fill:none\" points=\"\n",
       "  161.394,429.111 2321.26,429.111 \n",
       "  \"/>\n",
       "<polyline clip-path=\"url(#clip8403)\" style=\"stroke:#000000; stroke-width:2; stroke-opacity:0.1; fill:none\" points=\"\n",
       "  161.394,84.7284 2321.26,84.7284 \n",
       "  \"/>\n",
       "<polyline clip-path=\"url(#clip8401)\" style=\"stroke:#000000; stroke-width:4; stroke-opacity:1; fill:none\" points=\"\n",
       "  161.394,1503.47 2321.26,1503.47 \n",
       "  \"/>\n",
       "<polyline clip-path=\"url(#clip8401)\" style=\"stroke:#000000; stroke-width:4; stroke-opacity:1; fill:none\" points=\"\n",
       "  161.394,1503.47 161.394,47.2441 \n",
       "  \"/>\n",
       "<polyline clip-path=\"url(#clip8401)\" style=\"stroke:#000000; stroke-width:4; stroke-opacity:1; fill:none\" points=\"\n",
       "  202.166,1503.47 202.166,1481.63 \n",
       "  \"/>\n",
       "<polyline clip-path=\"url(#clip8401)\" style=\"stroke:#000000; stroke-width:4; stroke-opacity:1; fill:none\" points=\"\n",
       "  723.28,1503.47 723.28,1481.63 \n",
       "  \"/>\n",
       "<polyline clip-path=\"url(#clip8401)\" style=\"stroke:#000000; stroke-width:4; stroke-opacity:1; fill:none\" points=\"\n",
       "  1244.39,1503.47 1244.39,1481.63 \n",
       "  \"/>\n",
       "<polyline clip-path=\"url(#clip8401)\" style=\"stroke:#000000; stroke-width:4; stroke-opacity:1; fill:none\" points=\"\n",
       "  1765.51,1503.47 1765.51,1481.63 \n",
       "  \"/>\n",
       "<polyline clip-path=\"url(#clip8401)\" style=\"stroke:#000000; stroke-width:4; stroke-opacity:1; fill:none\" points=\"\n",
       "  2286.62,1503.47 2286.62,1481.63 \n",
       "  \"/>\n",
       "<polyline clip-path=\"url(#clip8401)\" style=\"stroke:#000000; stroke-width:4; stroke-opacity:1; fill:none\" points=\"\n",
       "  161.394,1462.26 193.792,1462.26 \n",
       "  \"/>\n",
       "<polyline clip-path=\"url(#clip8401)\" style=\"stroke:#000000; stroke-width:4; stroke-opacity:1; fill:none\" points=\"\n",
       "  161.394,1117.88 193.792,1117.88 \n",
       "  \"/>\n",
       "<polyline clip-path=\"url(#clip8401)\" style=\"stroke:#000000; stroke-width:4; stroke-opacity:1; fill:none\" points=\"\n",
       "  161.394,773.495 193.792,773.495 \n",
       "  \"/>\n",
       "<polyline clip-path=\"url(#clip8401)\" style=\"stroke:#000000; stroke-width:4; stroke-opacity:1; fill:none\" points=\"\n",
       "  161.394,429.111 193.792,429.111 \n",
       "  \"/>\n",
       "<polyline clip-path=\"url(#clip8401)\" style=\"stroke:#000000; stroke-width:4; stroke-opacity:1; fill:none\" points=\"\n",
       "  161.394,84.7284 193.792,84.7284 \n",
       "  \"/>\n",
       "<g clip-path=\"url(#clip8401)\">\n",
       "<text style=\"fill:#000000; fill-opacity:1; font-family:Arial,Helvetica Neue,Helvetica,sans-serif; font-size:48px; text-anchor:middle;\" transform=\"rotate(0, 202.166, 1557.47)\" x=\"202.166\" y=\"1557.47\">-10</text>\n",
       "</g>\n",
       "<g clip-path=\"url(#clip8401)\">\n",
       "<text style=\"fill:#000000; fill-opacity:1; font-family:Arial,Helvetica Neue,Helvetica,sans-serif; font-size:48px; text-anchor:middle;\" transform=\"rotate(0, 723.28, 1557.47)\" x=\"723.28\" y=\"1557.47\">-5</text>\n",
       "</g>\n",
       "<g clip-path=\"url(#clip8401)\">\n",
       "<text style=\"fill:#000000; fill-opacity:1; font-family:Arial,Helvetica Neue,Helvetica,sans-serif; font-size:48px; text-anchor:middle;\" transform=\"rotate(0, 1244.39, 1557.47)\" x=\"1244.39\" y=\"1557.47\">0</text>\n",
       "</g>\n",
       "<g clip-path=\"url(#clip8401)\">\n",
       "<text style=\"fill:#000000; fill-opacity:1; font-family:Arial,Helvetica Neue,Helvetica,sans-serif; font-size:48px; text-anchor:middle;\" transform=\"rotate(0, 1765.51, 1557.47)\" x=\"1765.51\" y=\"1557.47\">5</text>\n",
       "</g>\n",
       "<g clip-path=\"url(#clip8401)\">\n",
       "<text style=\"fill:#000000; fill-opacity:1; font-family:Arial,Helvetica Neue,Helvetica,sans-serif; font-size:48px; text-anchor:middle;\" transform=\"rotate(0, 2286.62, 1557.47)\" x=\"2286.62\" y=\"1557.47\">10</text>\n",
       "</g>\n",
       "<g clip-path=\"url(#clip8401)\">\n",
       "<text style=\"fill:#000000; fill-opacity:1; font-family:Arial,Helvetica Neue,Helvetica,sans-serif; font-size:48px; text-anchor:end;\" transform=\"rotate(0, 137.394, 1479.76)\" x=\"137.394\" y=\"1479.76\">0.0</text>\n",
       "</g>\n",
       "<g clip-path=\"url(#clip8401)\">\n",
       "<text style=\"fill:#000000; fill-opacity:1; font-family:Arial,Helvetica Neue,Helvetica,sans-serif; font-size:48px; text-anchor:end;\" transform=\"rotate(0, 137.394, 1135.38)\" x=\"137.394\" y=\"1135.38\">0.1</text>\n",
       "</g>\n",
       "<g clip-path=\"url(#clip8401)\">\n",
       "<text style=\"fill:#000000; fill-opacity:1; font-family:Arial,Helvetica Neue,Helvetica,sans-serif; font-size:48px; text-anchor:end;\" transform=\"rotate(0, 137.394, 790.995)\" x=\"137.394\" y=\"790.995\">0.2</text>\n",
       "</g>\n",
       "<g clip-path=\"url(#clip8401)\">\n",
       "<text style=\"fill:#000000; fill-opacity:1; font-family:Arial,Helvetica Neue,Helvetica,sans-serif; font-size:48px; text-anchor:end;\" transform=\"rotate(0, 137.394, 446.611)\" x=\"137.394\" y=\"446.611\">0.3</text>\n",
       "</g>\n",
       "<g clip-path=\"url(#clip8401)\">\n",
       "<text style=\"fill:#000000; fill-opacity:1; font-family:Arial,Helvetica Neue,Helvetica,sans-serif; font-size:48px; text-anchor:end;\" transform=\"rotate(0, 137.394, 102.228)\" x=\"137.394\" y=\"102.228\">0.4</text>\n",
       "</g>\n",
       "<polyline clip-path=\"url(#clip8403)\" style=\"stroke:#009af9; stroke-width:4; stroke-opacity:1; fill:none\" points=\"\n",
       "  222.522,1462.26 410.747,1462.26 523.862,1462.26 619.5,1462.26 723.389,1462.26 819.165,1461.93 870.506,1460.06 921.848,1450.83 951.59,1435.71 981.331,1405.43 \n",
       "  996.202,1381.62 1011.07,1350.14 1025.94,1309.51 1040.82,1258.35 1054.03,1203.13 1067.25,1138.21 1080.46,1063.49 1093.68,979.367 1106.89,886.827 1120.11,787.49 \n",
       "  1133.32,683.624 1146.54,578.102 1158.13,486.855 1169.72,399.413 1181.31,318.364 1192.9,246.262 1204.48,185.499 1216.07,138.172 1227.66,105.964 1239.25,90.0433 \n",
       "  1245.57,88.4582 1251.89,91.9154 1258.2,100.377 1264.52,113.75 1277.16,154.597 1289.79,212.707 1302.43,285.655 1315.06,370.508 1327.7,464.021 1340.33,562.84 \n",
       "  1365.75,764.764 1391.17,952.594 1403.88,1036.2 1416.59,1111.35 1429.3,1177.51 1442.01,1234.61 1456.06,1287.56 1470.12,1330.61 1484.17,1364.84 1498.22,1391.47 \n",
       "  1512.27,1411.74 1526.33,1426.86 1540.38,1437.9 1554.43,1445.8 1607.91,1459.13 1661.4,1461.8 1772.62,1462.26 1866.24,1462.26 1980.54,1462.26 2087.99,1462.26 \n",
       "  2260.13,1462.26 \n",
       "  \"/>\n",
       "<polygon clip-path=\"url(#clip8401)\" points=\"\n",
       "1958.43,251.724 2249.26,251.724 2249.26,130.764 1958.43,130.764 \n",
       "  \" fill=\"#ffffff\" fill-rule=\"evenodd\" fill-opacity=\"1\"/>\n",
       "<polyline clip-path=\"url(#clip8401)\" style=\"stroke:#000000; stroke-width:4; stroke-opacity:1; fill:none\" points=\"\n",
       "  1958.43,251.724 2249.26,251.724 2249.26,130.764 1958.43,130.764 1958.43,251.724 \n",
       "  \"/>\n",
       "<polyline clip-path=\"url(#clip8401)\" style=\"stroke:#009af9; stroke-width:4; stroke-opacity:1; fill:none\" points=\"\n",
       "  1982.43,191.244 2126.43,191.244 \n",
       "  \"/>\n",
       "<g clip-path=\"url(#clip8401)\">\n",
       "<text style=\"fill:#000000; fill-opacity:1; font-family:Arial,Helvetica Neue,Helvetica,sans-serif; font-size:48px; text-anchor:start;\" transform=\"rotate(0, 2150.43, 208.744)\" x=\"2150.43\" y=\"208.744\">y1</text>\n",
       "</g>\n",
       "</svg>\n"
      ]
     },
     "execution_count": 28,
     "metadata": {},
     "output_type": "execute_result"
    }
   ],
   "source": [
    "plot(x->normalGaussFun(x),-10,10)"
   ]
  },
  {
   "cell_type": "markdown",
   "metadata": {},
   "source": [
    "# ZADANIE 5"
   ]
  },
  {
   "cell_type": "code",
   "execution_count": 29,
   "metadata": {},
   "outputs": [
    {
     "data": {
      "text/plain": [
       "midPointRule (generic function with 1 method)"
      ]
     },
     "execution_count": 29,
     "metadata": {},
     "output_type": "execute_result"
    }
   ],
   "source": [
    "function midPointRule(f,a,b,n)\n",
    "    res = 0\n",
    "    start = a\n",
    "    range = (b-a)/n\n",
    "    for i in (a+range):range:b\n",
    "        res += f((i+start)/2)*range\n",
    "        start = i\n",
    "    end\n",
    "    return res\n",
    "end"
   ]
  },
  {
   "cell_type": "code",
   "execution_count": 35,
   "metadata": {},
   "outputs": [],
   "source": [
    "a = 5\n",
    "b = -5\n",
    "p = Poly([4,2,5,1,0,9,1,5,2,6])\n",
    "results = DataFrame(n=Int64[],myFun=Float64[],quadgk=Float64[],approx=Bool[],error=Float64[])\n",
    "for i in 1:1:10\n",
    "    x = midPointRule(p,a,b,i)\n",
    "    y = quadgk(p,a,b)[1]\n",
    "    push!(results,[i,x,y,isapprox(x,y),abs(x-y)])\n",
    "end"
   ]
  },
  {
   "cell_type": "code",
   "execution_count": 36,
   "metadata": {},
   "outputs": [
    {
     "data": {
      "text/html": [
       "<table class=\"data-frame\"><thead><tr><th></th><th>n</th><th>myFun</th><th>quadgk</th><th>approx</th><th>error</th></tr><tr><th></th><th>Int64</th><th>Float64</th><th>Float64</th><th>Bool</th><th>Float64</th></tr></thead><tbody><p>10 rows × 5 columns</p><tr><th>1</th><td>1</td><td>-40.0</td><td>-8.90834e5</td><td>false</td><td>8.90794e5</td></tr><tr><th>2</th><td>2</td><td>-33311.5</td><td>-8.90834e5</td><td>false</td><td>8.57522e5</td></tr><tr><th>3</th><td>3</td><td>-2.12776e5</td><td>-8.90834e5</td><td>false</td><td>6.78057e5</td></tr><tr><th>4</th><td>4</td><td>-4.0548e5</td><td>-8.90834e5</td><td>false</td><td>4.85354e5</td></tr><tr><th>5</th><td>5</td><td>-543416.0</td><td>-8.90834e5</td><td>false</td><td>3.47418e5</td></tr><tr><th>6</th><td>6</td><td>-4.30878e6</td><td>-8.90834e5</td><td>false</td><td>3.41795e6</td></tr><tr><th>7</th><td>7</td><td>-6.95556e5</td><td>-8.90834e5</td><td>false</td><td>1.95277e5</td></tr><tr><th>8</th><td>8</td><td>-7.37768e5</td><td>-8.90834e5</td><td>false</td><td>1.53066e5</td></tr><tr><th>9</th><td>9</td><td>-7.67932e5</td><td>-8.90834e5</td><td>false</td><td>1.22901e5</td></tr><tr><th>10</th><td>10</td><td>-7.90134e5</td><td>-8.90834e5</td><td>false</td><td>1.007e5</td></tr></tbody></table>"
      ],
      "text/latex": [
       "\\begin{tabular}{r|ccccc}\n",
       "\t& n & myFun & quadgk & approx & error\\\\\n",
       "\t\\hline\n",
       "\t1 & 1 & -40.0 & -8.90834e5 & false & 8.90794e5 \\\\\n",
       "\t2 & 2 & -33311.5 & -8.90834e5 & false & 8.57522e5 \\\\\n",
       "\t3 & 3 & -2.12776e5 & -8.90834e5 & false & 6.78057e5 \\\\\n",
       "\t4 & 4 & -4.0548e5 & -8.90834e5 & false & 4.85354e5 \\\\\n",
       "\t5 & 5 & -543416.0 & -8.90834e5 & false & 3.47418e5 \\\\\n",
       "\t6 & 6 & -4.30878e6 & -8.90834e5 & false & 3.41795e6 \\\\\n",
       "\t7 & 7 & -6.95556e5 & -8.90834e5 & false & 1.95277e5 \\\\\n",
       "\t8 & 8 & -7.37768e5 & -8.90834e5 & false & 1.53066e5 \\\\\n",
       "\t9 & 9 & -7.67932e5 & -8.90834e5 & false & 1.22901e5 \\\\\n",
       "\t10 & 10 & -7.90134e5 & -8.90834e5 & false & 1.007e5 \\\\\n",
       "\\end{tabular}\n"
      ],
      "text/plain": [
       "10×5 DataFrame\n",
       "│ Row │ n     │ myFun      │ quadgk     │ approx │ error     │\n",
       "│     │ \u001b[90mInt64\u001b[39m │ \u001b[90mFloat64\u001b[39m    │ \u001b[90mFloat64\u001b[39m    │ \u001b[90mBool\u001b[39m   │ \u001b[90mFloat64\u001b[39m   │\n",
       "├─────┼───────┼────────────┼────────────┼────────┼───────────┤\n",
       "│ 1   │ 1     │ -40.0      │ -8.90834e5 │ false  │ 8.90794e5 │\n",
       "│ 2   │ 2     │ -33311.5   │ -8.90834e5 │ false  │ 8.57522e5 │\n",
       "│ 3   │ 3     │ -2.12776e5 │ -8.90834e5 │ false  │ 6.78057e5 │\n",
       "│ 4   │ 4     │ -4.0548e5  │ -8.90834e5 │ false  │ 4.85354e5 │\n",
       "│ 5   │ 5     │ -543416.0  │ -8.90834e5 │ false  │ 3.47418e5 │\n",
       "│ 6   │ 6     │ -4.30878e6 │ -8.90834e5 │ false  │ 3.41795e6 │\n",
       "│ 7   │ 7     │ -6.95556e5 │ -8.90834e5 │ false  │ 1.95277e5 │\n",
       "│ 8   │ 8     │ -7.37768e5 │ -8.90834e5 │ false  │ 1.53066e5 │\n",
       "│ 9   │ 9     │ -7.67932e5 │ -8.90834e5 │ false  │ 1.22901e5 │\n",
       "│ 10  │ 10    │ -7.90134e5 │ -8.90834e5 │ false  │ 1.007e5   │"
      ]
     },
     "execution_count": 36,
     "metadata": {},
     "output_type": "execute_result"
    }
   ],
   "source": [
    "results"
   ]
  },
  {
   "cell_type": "code",
   "execution_count": 37,
   "metadata": {},
   "outputs": [
    {
     "data": {
      "image/svg+xml": [
       "<?xml version=\"1.0\" encoding=\"utf-8\"?>\n",
       "<svg xmlns=\"http://www.w3.org/2000/svg\" xmlns:xlink=\"http://www.w3.org/1999/xlink\" width=\"600\" height=\"400\" viewBox=\"0 0 2400 1600\">\n",
       "<defs>\n",
       "  <clipPath id=\"clip8800\">\n",
       "    <rect x=\"0\" y=\"0\" width=\"2000\" height=\"2000\"/>\n",
       "  </clipPath>\n",
       "</defs>\n",
       "<defs>\n",
       "  <clipPath id=\"clip8801\">\n",
       "    <rect x=\"0\" y=\"0\" width=\"2400\" height=\"1600\"/>\n",
       "  </clipPath>\n",
       "</defs>\n",
       "<polygon clip-path=\"url(#clip8801)\" points=\"\n",
       "0,1600 2400,1600 2400,0 0,0 \n",
       "  \" fill=\"#ffffff\" fill-rule=\"evenodd\" fill-opacity=\"1\"/>\n",
       "<defs>\n",
       "  <clipPath id=\"clip8802\">\n",
       "    <rect x=\"480\" y=\"0\" width=\"1681\" height=\"1600\"/>\n",
       "  </clipPath>\n",
       "</defs>\n",
       "<polygon clip-path=\"url(#clip8801)\" points=\"\n",
       "308.828,1503.47 2321.26,1503.47 2321.26,47.2441 308.828,47.2441 \n",
       "  \" fill=\"#ffffff\" fill-rule=\"evenodd\" fill-opacity=\"1\"/>\n",
       "<defs>\n",
       "  <clipPath id=\"clip8803\">\n",
       "    <rect x=\"308\" y=\"47\" width=\"2013\" height=\"1457\"/>\n",
       "  </clipPath>\n",
       "</defs>\n",
       "<polyline clip-path=\"url(#clip8803)\" style=\"stroke:#000000; stroke-width:2; stroke-opacity:0.1; fill:none\" points=\"\n",
       "  576.73,1503.47 576.73,47.2441 \n",
       "  \"/>\n",
       "<polyline clip-path=\"url(#clip8803)\" style=\"stroke:#000000; stroke-width:2; stroke-opacity:0.1; fill:none\" points=\"\n",
       "  998.624,1503.47 998.624,47.2441 \n",
       "  \"/>\n",
       "<polyline clip-path=\"url(#clip8803)\" style=\"stroke:#000000; stroke-width:2; stroke-opacity:0.1; fill:none\" points=\"\n",
       "  1420.52,1503.47 1420.52,47.2441 \n",
       "  \"/>\n",
       "<polyline clip-path=\"url(#clip8803)\" style=\"stroke:#000000; stroke-width:2; stroke-opacity:0.1; fill:none\" points=\"\n",
       "  1842.41,1503.47 1842.41,47.2441 \n",
       "  \"/>\n",
       "<polyline clip-path=\"url(#clip8803)\" style=\"stroke:#000000; stroke-width:2; stroke-opacity:0.1; fill:none\" points=\"\n",
       "  2264.3,1503.47 2264.3,47.2441 \n",
       "  \"/>\n",
       "<polyline clip-path=\"url(#clip8803)\" style=\"stroke:#000000; stroke-width:2; stroke-opacity:0.1; fill:none\" points=\"\n",
       "  308.828,1296.89 2321.26,1296.89 \n",
       "  \"/>\n",
       "<polyline clip-path=\"url(#clip8803)\" style=\"stroke:#000000; stroke-width:2; stroke-opacity:0.1; fill:none\" points=\"\n",
       "  308.828,1089.83 2321.26,1089.83 \n",
       "  \"/>\n",
       "<polyline clip-path=\"url(#clip8803)\" style=\"stroke:#000000; stroke-width:2; stroke-opacity:0.1; fill:none\" points=\"\n",
       "  308.828,882.755 2321.26,882.755 \n",
       "  \"/>\n",
       "<polyline clip-path=\"url(#clip8803)\" style=\"stroke:#000000; stroke-width:2; stroke-opacity:0.1; fill:none\" points=\"\n",
       "  308.828,675.686 2321.26,675.686 \n",
       "  \"/>\n",
       "<polyline clip-path=\"url(#clip8803)\" style=\"stroke:#000000; stroke-width:2; stroke-opacity:0.1; fill:none\" points=\"\n",
       "  308.828,468.616 2321.26,468.616 \n",
       "  \"/>\n",
       "<polyline clip-path=\"url(#clip8803)\" style=\"stroke:#000000; stroke-width:2; stroke-opacity:0.1; fill:none\" points=\"\n",
       "  308.828,261.546 2321.26,261.546 \n",
       "  \"/>\n",
       "<polyline clip-path=\"url(#clip8803)\" style=\"stroke:#000000; stroke-width:2; stroke-opacity:0.1; fill:none\" points=\"\n",
       "  308.828,54.4767 2321.26,54.4767 \n",
       "  \"/>\n",
       "<polyline clip-path=\"url(#clip8801)\" style=\"stroke:#000000; stroke-width:4; stroke-opacity:1; fill:none\" points=\"\n",
       "  308.828,1503.47 2321.26,1503.47 \n",
       "  \"/>\n",
       "<polyline clip-path=\"url(#clip8801)\" style=\"stroke:#000000; stroke-width:4; stroke-opacity:1; fill:none\" points=\"\n",
       "  308.828,1503.47 308.828,47.2441 \n",
       "  \"/>\n",
       "<polyline clip-path=\"url(#clip8801)\" style=\"stroke:#000000; stroke-width:4; stroke-opacity:1; fill:none\" points=\"\n",
       "  576.73,1503.47 576.73,1481.63 \n",
       "  \"/>\n",
       "<polyline clip-path=\"url(#clip8801)\" style=\"stroke:#000000; stroke-width:4; stroke-opacity:1; fill:none\" points=\"\n",
       "  998.624,1503.47 998.624,1481.63 \n",
       "  \"/>\n",
       "<polyline clip-path=\"url(#clip8801)\" style=\"stroke:#000000; stroke-width:4; stroke-opacity:1; fill:none\" points=\"\n",
       "  1420.52,1503.47 1420.52,1481.63 \n",
       "  \"/>\n",
       "<polyline clip-path=\"url(#clip8801)\" style=\"stroke:#000000; stroke-width:4; stroke-opacity:1; fill:none\" points=\"\n",
       "  1842.41,1503.47 1842.41,1481.63 \n",
       "  \"/>\n",
       "<polyline clip-path=\"url(#clip8801)\" style=\"stroke:#000000; stroke-width:4; stroke-opacity:1; fill:none\" points=\"\n",
       "  2264.3,1503.47 2264.3,1481.63 \n",
       "  \"/>\n",
       "<polyline clip-path=\"url(#clip8801)\" style=\"stroke:#000000; stroke-width:4; stroke-opacity:1; fill:none\" points=\"\n",
       "  308.828,1296.89 339.014,1296.89 \n",
       "  \"/>\n",
       "<polyline clip-path=\"url(#clip8801)\" style=\"stroke:#000000; stroke-width:4; stroke-opacity:1; fill:none\" points=\"\n",
       "  308.828,1089.83 339.014,1089.83 \n",
       "  \"/>\n",
       "<polyline clip-path=\"url(#clip8801)\" style=\"stroke:#000000; stroke-width:4; stroke-opacity:1; fill:none\" points=\"\n",
       "  308.828,882.755 339.014,882.755 \n",
       "  \"/>\n",
       "<polyline clip-path=\"url(#clip8801)\" style=\"stroke:#000000; stroke-width:4; stroke-opacity:1; fill:none\" points=\"\n",
       "  308.828,675.686 339.014,675.686 \n",
       "  \"/>\n",
       "<polyline clip-path=\"url(#clip8801)\" style=\"stroke:#000000; stroke-width:4; stroke-opacity:1; fill:none\" points=\"\n",
       "  308.828,468.616 339.014,468.616 \n",
       "  \"/>\n",
       "<polyline clip-path=\"url(#clip8801)\" style=\"stroke:#000000; stroke-width:4; stroke-opacity:1; fill:none\" points=\"\n",
       "  308.828,261.546 339.014,261.546 \n",
       "  \"/>\n",
       "<polyline clip-path=\"url(#clip8801)\" style=\"stroke:#000000; stroke-width:4; stroke-opacity:1; fill:none\" points=\"\n",
       "  308.828,54.4767 339.014,54.4767 \n",
       "  \"/>\n",
       "<g clip-path=\"url(#clip8801)\">\n",
       "<text style=\"fill:#000000; fill-opacity:1; font-family:Arial,Helvetica Neue,Helvetica,sans-serif; font-size:48px; text-anchor:middle;\" transform=\"rotate(0, 576.73, 1557.47)\" x=\"576.73\" y=\"1557.47\">2</text>\n",
       "</g>\n",
       "<g clip-path=\"url(#clip8801)\">\n",
       "<text style=\"fill:#000000; fill-opacity:1; font-family:Arial,Helvetica Neue,Helvetica,sans-serif; font-size:48px; text-anchor:middle;\" transform=\"rotate(0, 998.624, 1557.47)\" x=\"998.624\" y=\"1557.47\">4</text>\n",
       "</g>\n",
       "<g clip-path=\"url(#clip8801)\">\n",
       "<text style=\"fill:#000000; fill-opacity:1; font-family:Arial,Helvetica Neue,Helvetica,sans-serif; font-size:48px; text-anchor:middle;\" transform=\"rotate(0, 1420.52, 1557.47)\" x=\"1420.52\" y=\"1557.47\">6</text>\n",
       "</g>\n",
       "<g clip-path=\"url(#clip8801)\">\n",
       "<text style=\"fill:#000000; fill-opacity:1; font-family:Arial,Helvetica Neue,Helvetica,sans-serif; font-size:48px; text-anchor:middle;\" transform=\"rotate(0, 1842.41, 1557.47)\" x=\"1842.41\" y=\"1557.47\">8</text>\n",
       "</g>\n",
       "<g clip-path=\"url(#clip8801)\">\n",
       "<text style=\"fill:#000000; fill-opacity:1; font-family:Arial,Helvetica Neue,Helvetica,sans-serif; font-size:48px; text-anchor:middle;\" transform=\"rotate(0, 2264.3, 1557.47)\" x=\"2264.3\" y=\"1557.47\">10</text>\n",
       "</g>\n",
       "<g clip-path=\"url(#clip8801)\">\n",
       "<text style=\"fill:#000000; fill-opacity:1; font-family:Arial,Helvetica Neue,Helvetica,sans-serif; font-size:48px; text-anchor:start;\" transform=\"rotate(0, 114.543, 1320.62)\" x=\"114.543\" y=\"1320.62\">5.0×10</text>\n",
       "</g>\n",
       "<g clip-path=\"url(#clip8801)\">\n",
       "<text style=\"fill:#000000; fill-opacity:1; font-family:Arial,Helvetica Neue,Helvetica,sans-serif; font-size:38px; text-anchor:start;\" transform=\"rotate(0, 263.083, 1293.21)\" x=\"263.083\" y=\"1293.21\">5</text>\n",
       "</g>\n",
       "<g clip-path=\"url(#clip8801)\">\n",
       "<text style=\"fill:#000000; fill-opacity:1; font-family:Arial,Helvetica Neue,Helvetica,sans-serif; font-size:48px; text-anchor:start;\" transform=\"rotate(0, 114.543, 1113.55)\" x=\"114.543\" y=\"1113.55\">1.0×10</text>\n",
       "</g>\n",
       "<g clip-path=\"url(#clip8801)\">\n",
       "<text style=\"fill:#000000; fill-opacity:1; font-family:Arial,Helvetica Neue,Helvetica,sans-serif; font-size:38px; text-anchor:start;\" transform=\"rotate(0, 263.083, 1086.14)\" x=\"263.083\" y=\"1086.14\">6</text>\n",
       "</g>\n",
       "<g clip-path=\"url(#clip8801)\">\n",
       "<text style=\"fill:#000000; fill-opacity:1; font-family:Arial,Helvetica Neue,Helvetica,sans-serif; font-size:48px; text-anchor:start;\" transform=\"rotate(0, 114.543, 906.483)\" x=\"114.543\" y=\"906.483\">1.5×10</text>\n",
       "</g>\n",
       "<g clip-path=\"url(#clip8801)\">\n",
       "<text style=\"fill:#000000; fill-opacity:1; font-family:Arial,Helvetica Neue,Helvetica,sans-serif; font-size:38px; text-anchor:start;\" transform=\"rotate(0, 263.083, 879.073)\" x=\"263.083\" y=\"879.073\">6</text>\n",
       "</g>\n",
       "<g clip-path=\"url(#clip8801)\">\n",
       "<text style=\"fill:#000000; fill-opacity:1; font-family:Arial,Helvetica Neue,Helvetica,sans-serif; font-size:48px; text-anchor:start;\" transform=\"rotate(0, 114.543, 699.413)\" x=\"114.543\" y=\"699.413\">2.0×10</text>\n",
       "</g>\n",
       "<g clip-path=\"url(#clip8801)\">\n",
       "<text style=\"fill:#000000; fill-opacity:1; font-family:Arial,Helvetica Neue,Helvetica,sans-serif; font-size:38px; text-anchor:start;\" transform=\"rotate(0, 263.083, 672.003)\" x=\"263.083\" y=\"672.003\">6</text>\n",
       "</g>\n",
       "<g clip-path=\"url(#clip8801)\">\n",
       "<text style=\"fill:#000000; fill-opacity:1; font-family:Arial,Helvetica Neue,Helvetica,sans-serif; font-size:48px; text-anchor:start;\" transform=\"rotate(0, 114.543, 492.344)\" x=\"114.543\" y=\"492.344\">2.5×10</text>\n",
       "</g>\n",
       "<g clip-path=\"url(#clip8801)\">\n",
       "<text style=\"fill:#000000; fill-opacity:1; font-family:Arial,Helvetica Neue,Helvetica,sans-serif; font-size:38px; text-anchor:start;\" transform=\"rotate(0, 263.083, 464.933)\" x=\"263.083\" y=\"464.933\">6</text>\n",
       "</g>\n",
       "<g clip-path=\"url(#clip8801)\">\n",
       "<text style=\"fill:#000000; fill-opacity:1; font-family:Arial,Helvetica Neue,Helvetica,sans-serif; font-size:48px; text-anchor:start;\" transform=\"rotate(0, 114.543, 285.274)\" x=\"114.543\" y=\"285.274\">3.0×10</text>\n",
       "</g>\n",
       "<g clip-path=\"url(#clip8801)\">\n",
       "<text style=\"fill:#000000; fill-opacity:1; font-family:Arial,Helvetica Neue,Helvetica,sans-serif; font-size:38px; text-anchor:start;\" transform=\"rotate(0, 263.083, 257.864)\" x=\"263.083\" y=\"257.864\">6</text>\n",
       "</g>\n",
       "<g clip-path=\"url(#clip8801)\">\n",
       "<text style=\"fill:#000000; fill-opacity:1; font-family:Arial,Helvetica Neue,Helvetica,sans-serif; font-size:48px; text-anchor:start;\" transform=\"rotate(0, 114.543, 78.2043)\" x=\"114.543\" y=\"78.2043\">3.5×10</text>\n",
       "</g>\n",
       "<g clip-path=\"url(#clip8801)\">\n",
       "<text style=\"fill:#000000; fill-opacity:1; font-family:Arial,Helvetica Neue,Helvetica,sans-serif; font-size:38px; text-anchor:start;\" transform=\"rotate(0, 263.083, 50.7939)\" x=\"263.083\" y=\"50.7939\">6</text>\n",
       "</g>\n",
       "<polyline clip-path=\"url(#clip8803)\" style=\"stroke:#009af9; stroke-width:4; stroke-opacity:1; fill:none\" points=\"\n",
       "  365.783,1135.05 576.73,1148.83 787.677,1223.15 998.624,1302.96 1209.57,1360.09 1420.52,88.4582 1631.46,1423.09 1842.41,1440.57 2053.36,1453.07 2264.3,1462.26 \n",
       "  \n",
       "  \"/>\n",
       "<polygon clip-path=\"url(#clip8801)\" points=\"\n",
       "1608.07,251.724 2249.26,251.724 2249.26,130.764 1608.07,130.764 \n",
       "  \" fill=\"#ffffff\" fill-rule=\"evenodd\" fill-opacity=\"1\"/>\n",
       "<polyline clip-path=\"url(#clip8801)\" style=\"stroke:#000000; stroke-width:4; stroke-opacity:1; fill:none\" points=\"\n",
       "  1608.07,251.724 2249.26,251.724 2249.26,130.764 1608.07,130.764 1608.07,251.724 \n",
       "  \"/>\n",
       "<polyline clip-path=\"url(#clip8801)\" style=\"stroke:#009af9; stroke-width:4; stroke-opacity:1; fill:none\" points=\"\n",
       "  1632.07,191.244 1776.07,191.244 \n",
       "  \"/>\n",
       "<g clip-path=\"url(#clip8801)\">\n",
       "<text style=\"fill:#000000; fill-opacity:1; font-family:Arial,Helvetica Neue,Helvetica,sans-serif; font-size:48px; text-anchor:start;\" transform=\"rotate(0, 1800.07, 208.744)\" x=\"1800.07\" y=\"208.744\">midPointRule error</text>\n",
       "</g>\n",
       "</svg>\n"
      ]
     },
     "execution_count": 37,
     "metadata": {},
     "output_type": "execute_result"
    }
   ],
   "source": [
    "plot(results[:n], results[:error], label=\"midPointRule error\")"
   ]
  },
  {
   "cell_type": "code",
   "execution_count": 40,
   "metadata": {},
   "outputs": [],
   "source": [
    "a = 5\n",
    "b = -5\n",
    "p = Poly([6,0,0,0,0,1,2,0])\n",
    "results = DataFrame(n=Int64[],myFun=Float64[],quadgk=Float64[],approx=Bool[],error=Float64[])\n",
    "for i in 1:1:100\n",
    "    x = midPointRule(p,a,b,i)\n",
    "    y = quadgk(p,a,b)[1]\n",
    "    push!(results,[i,x,y,isapprox(x,y),abs(x-y)])\n",
    "end"
   ]
  },
  {
   "cell_type": "code",
   "execution_count": 41,
   "metadata": {},
   "outputs": [
    {
     "data": {
      "text/html": [
       "<table class=\"data-frame\"><thead><tr><th></th><th>n</th><th>myFun</th><th>quadgk</th><th>approx</th><th>error</th></tr><tr><th></th><th>Int64</th><th>Float64</th><th>Float64</th><th>Bool</th><th>Float64</th></tr></thead><tbody><p>100 rows × 5 columns</p><tr><th>1</th><td>1</td><td>-60.0</td><td>-44702.9</td><td>false</td><td>44642.9</td></tr><tr><th>2</th><td>2</td><td>-4942.81</td><td>-44702.9</td><td>false</td><td>39760.0</td></tr><tr><th>3</th><td>3</td><td>-18349.9</td><td>-44702.9</td><td>false</td><td>26353.0</td></tr><tr><th>4</th><td>4</td><td>-27907.3</td><td>-44702.9</td><td>false</td><td>16795.6</td></tr><tr><th>5</th><td>5</td><td>-33340.0</td><td>-44702.9</td><td>false</td><td>11362.9</td></tr><tr><th>6</th><td>6</td><td>-21215.6</td><td>-44702.9</td><td>false</td><td>23487.3</td></tr><tr><th>7</th><td>7</td><td>-38625.1</td><td>-44702.9</td><td>false</td><td>6077.78</td></tr><tr><th>8</th><td>8</td><td>-39996.3</td><td>-44702.9</td><td>false</td><td>4706.55</td></tr><tr><th>9</th><td>9</td><td>-40955.1</td><td>-44702.9</td><td>false</td><td>3747.76</td></tr><tr><th>10</th><td>10</td><td>-41650.3</td><td>-44702.9</td><td>false</td><td>3052.54</td></tr><tr><th>11</th><td>11</td><td>-42169.8</td><td>-44702.9</td><td>false</td><td>2533.1</td></tr><tr><th>12</th><td>12</td><td>-42567.7</td><td>-44702.9</td><td>false</td><td>2135.13</td></tr><tr><th>13</th><td>13</td><td>-42879.2</td><td>-44702.9</td><td>false</td><td>1823.68</td></tr><tr><th>14</th><td>14</td><td>-43127.4</td><td>-44702.9</td><td>false</td><td>1575.47</td></tr><tr><th>15</th><td>15</td><td>-43328.3</td><td>-44702.9</td><td>false</td><td>1374.53</td></tr><tr><th>16</th><td>16</td><td>-43493.3</td><td>-44702.9</td><td>false</td><td>1209.6</td></tr><tr><th>17</th><td>17</td><td>-43630.3</td><td>-44702.9</td><td>false</td><td>1072.6</td></tr><tr><th>18</th><td>18</td><td>-43745.3</td><td>-44702.9</td><td>false</td><td>957.574</td></tr><tr><th>19</th><td>19</td><td>-43842.8</td><td>-44702.9</td><td>false</td><td>860.066</td></tr><tr><th>20</th><td>20</td><td>-43926.2</td><td>-44702.9</td><td>false</td><td>776.7</td></tr><tr><th>21</th><td>21</td><td>-43998.0</td><td>-44702.9</td><td>false</td><td>704.873</td></tr><tr><th>22</th><td>22</td><td>-44060.3</td><td>-44702.9</td><td>false</td><td>642.553</td></tr><tr><th>23</th><td>23</td><td>-44114.7</td><td>-44702.9</td><td>false</td><td>588.135</td></tr><tr><th>24</th><td>24</td><td>-44162.5</td><td>-44702.9</td><td>false</td><td>540.339</td></tr><tr><th>25</th><td>25</td><td>-44204.7</td><td>-44702.9</td><td>false</td><td>498.135</td></tr><tr><th>26</th><td>26</td><td>-44242.2</td><td>-44702.9</td><td>false</td><td>460.684</td></tr><tr><th>27</th><td>27</td><td>-44275.6</td><td>-44702.9</td><td>false</td><td>427.299</td></tr><tr><th>28</th><td>28</td><td>-44305.4</td><td>-44702.9</td><td>false</td><td>397.412</td></tr><tr><th>29</th><td>29</td><td>-44332.3</td><td>-44702.9</td><td>false</td><td>370.551</td></tr><tr><th>30</th><td>30</td><td>-44356.5</td><td>-44702.9</td><td>false</td><td>346.323</td></tr><tr><th>&vellip;</th><td>&vellip;</td><td>&vellip;</td><td>&vellip;</td><td>&vellip;</td><td>&vellip;</td></tr></tbody></table>"
      ],
      "text/latex": [
       "\\begin{tabular}{r|ccccc}\n",
       "\t& n & myFun & quadgk & approx & error\\\\\n",
       "\t\\hline\n",
       "\t1 & 1 & -60.0 & -44702.9 & false & 44642.9 \\\\\n",
       "\t2 & 2 & -4942.81 & -44702.9 & false & 39760.0 \\\\\n",
       "\t3 & 3 & -18349.9 & -44702.9 & false & 26353.0 \\\\\n",
       "\t4 & 4 & -27907.3 & -44702.9 & false & 16795.6 \\\\\n",
       "\t5 & 5 & -33340.0 & -44702.9 & false & 11362.9 \\\\\n",
       "\t6 & 6 & -21215.6 & -44702.9 & false & 23487.3 \\\\\n",
       "\t7 & 7 & -38625.1 & -44702.9 & false & 6077.78 \\\\\n",
       "\t8 & 8 & -39996.3 & -44702.9 & false & 4706.55 \\\\\n",
       "\t9 & 9 & -40955.1 & -44702.9 & false & 3747.76 \\\\\n",
       "\t10 & 10 & -41650.3 & -44702.9 & false & 3052.54 \\\\\n",
       "\t11 & 11 & -42169.8 & -44702.9 & false & 2533.1 \\\\\n",
       "\t12 & 12 & -42567.7 & -44702.9 & false & 2135.13 \\\\\n",
       "\t13 & 13 & -42879.2 & -44702.9 & false & 1823.68 \\\\\n",
       "\t14 & 14 & -43127.4 & -44702.9 & false & 1575.47 \\\\\n",
       "\t15 & 15 & -43328.3 & -44702.9 & false & 1374.53 \\\\\n",
       "\t16 & 16 & -43493.3 & -44702.9 & false & 1209.6 \\\\\n",
       "\t17 & 17 & -43630.3 & -44702.9 & false & 1072.6 \\\\\n",
       "\t18 & 18 & -43745.3 & -44702.9 & false & 957.574 \\\\\n",
       "\t19 & 19 & -43842.8 & -44702.9 & false & 860.066 \\\\\n",
       "\t20 & 20 & -43926.2 & -44702.9 & false & 776.7 \\\\\n",
       "\t21 & 21 & -43998.0 & -44702.9 & false & 704.873 \\\\\n",
       "\t22 & 22 & -44060.3 & -44702.9 & false & 642.553 \\\\\n",
       "\t23 & 23 & -44114.7 & -44702.9 & false & 588.135 \\\\\n",
       "\t24 & 24 & -44162.5 & -44702.9 & false & 540.339 \\\\\n",
       "\t25 & 25 & -44204.7 & -44702.9 & false & 498.135 \\\\\n",
       "\t26 & 26 & -44242.2 & -44702.9 & false & 460.684 \\\\\n",
       "\t27 & 27 & -44275.6 & -44702.9 & false & 427.299 \\\\\n",
       "\t28 & 28 & -44305.4 & -44702.9 & false & 397.412 \\\\\n",
       "\t29 & 29 & -44332.3 & -44702.9 & false & 370.551 \\\\\n",
       "\t30 & 30 & -44356.5 & -44702.9 & false & 346.323 \\\\\n",
       "\t31 & 31 & -44378.5 & -44702.9 & false & 324.393 \\\\\n",
       "\t32 & 32 & -44398.4 & -44702.9 & false & 304.481 \\\\\n",
       "\t33 & 33 & -44416.5 & -44702.9 & false & 286.346 \\\\\n",
       "\t34 & 34 & -44433.1 & -44702.9 & false & 269.783 \\\\\n",
       "\t35 & 35 & -44448.2 & -44702.9 & false & 254.616 \\\\\n",
       "\t36 & 36 & -44462.2 & -44702.9 & false & 240.693 \\\\\n",
       "\t37 & 37 & -44475.0 & -44702.9 & false & 227.88 \\\\\n",
       "\t38 & 38 & -44486.8 & -44702.9 & false & 216.063 \\\\\n",
       "\t39 & 39 & -44497.7 & -44702.9 & false & 205.142 \\\\\n",
       "\t40 & 40 & -44507.8 & -44702.9 & false & 195.028 \\\\\n",
       "\t41 & 41 & -44517.2 & -44702.9 & false & 185.643 \\\\\n",
       "\t42 & 42 & -44525.9 & -44702.9 & false & 176.92 \\\\\n",
       "\t43 & 43 & -44534.1 & -44702.9 & false & 168.797 \\\\\n",
       "\t44 & 44 & -44541.6 & -44702.9 & false & 161.221 \\\\\n",
       "\t45 & 45 & -44548.7 & -44702.9 & false & 154.143 \\\\\n",
       "\t46 & 46 & -44555.3 & -44702.9 & false & 147.522 \\\\\n",
       "\t47 & 47 & -44561.5 & -44702.9 & false & 141.317 \\\\\n",
       "\t48 & 48 & -44567.4 & -44702.9 & false & 135.496 \\\\\n",
       "\t49 & 49 & -44572.8 & -44702.9 & false & 130.028 \\\\\n",
       "\t50 & 50 & -44578.0 & -44702.9 & false & 124.883 \\\\\n",
       "\t51 & 51 & -44582.8 & -44702.9 & false & 120.038 \\\\\n",
       "\t52 & 52 & -44587.4 & -44702.9 & false & 115.47 \\\\\n",
       "\t53 & 53 & -44591.7 & -44702.9 & false & 111.157 \\\\\n",
       "\t54 & 54 & -44595.8 & -44702.9 & false & 107.082 \\\\\n",
       "\t55 & 55 & -44599.6 & -44702.9 & false & 103.226 \\\\\n",
       "\t56 & 56 & -44603.3 & -44702.9 & false & 99.5751 \\\\\n",
       "\t57 & 57 & -44606.7 & -44702.9 & false & 96.1144 \\\\\n",
       "\t58 & 58 & -44610.0 & -44702.9 & false & 92.8309 \\\\\n",
       "\t59 & 59 & -44613.1 & -44702.9 & false & 89.7129 \\\\\n",
       "\t60 & 60 & -44616.1 & -44702.9 & false & 86.7493 \\\\\n",
       "\t61 & 61 & -44618.9 & -44702.9 & false & 83.9301 \\\\\n",
       "\t62 & 62 & -44621.6 & -44702.9 & false & 81.2462 \\\\\n",
       "\t63 & 63 & -44624.2 & -44702.9 & false & 78.6889 \\\\\n",
       "\t64 & 64 & -44626.6 & -44702.9 & false & 76.2505 \\\\\n",
       "\t65 & 65 & -44628.9 & -44702.9 & false & 73.9237 \\\\\n",
       "\t66 & 66 & -44631.2 & -44702.9 & false & 71.7017 \\\\\n",
       "\t67 & 67 & -44633.3 & -44702.9 & false & 69.5784 \\\\\n",
       "\t68 & 68 & -44635.3 & -44702.9 & false & 67.5481 \\\\\n",
       "\t69 & 69 & -44637.3 & -44702.9 & false & 65.6053 \\\\\n",
       "\t70 & 70 & -44639.1 & -44702.9 & false & 63.7451 \\\\\n",
       "\t71 & 71 & -44640.9 & -44702.9 & false & 61.963 \\\\\n",
       "\t72 & 72 & -44642.6 & -44702.9 & false & 60.2545 \\\\\n",
       "\t73 & 73 & -44644.2 & -44702.9 & false & 58.6157 \\\\\n",
       "\t74 & 74 & -44645.8 & -44702.9 & false & 57.0429 \\\\\n",
       "\t75 & 75 & -44647.3 & -44702.9 & false & 55.5325 \\\\\n",
       "\t76 & 76 & -44648.8 & -44702.9 & false & 54.0813 \\\\\n",
       "\t77 & 77 & -44650.2 & -44702.9 & false & 52.6863 \\\\\n",
       "\t78 & 78 & -44651.5 & -44702.9 & false & 51.3445 \\\\\n",
       "\t79 & 79 & -44652.8 & -44702.9 & false & 50.0534 \\\\\n",
       "\t80 & 80 & -44654.0 & -44702.9 & false & 48.8103 \\\\\n",
       "\t81 & 81 & -44655.2 & -44702.9 & false & 47.613 \\\\\n",
       "\t82 & 82 & -44656.4 & -44702.9 & false & 46.4592 \\\\\n",
       "\t83 & 83 & -44657.5 & -44702.9 & false & 45.3468 \\\\\n",
       "\t84 & 84 & -44658.6 & -44702.9 & false & 44.2739 \\\\\n",
       "\t85 & 85 & -44659.6 & -44702.9 & false & 43.2386 \\\\\n",
       "\t86 & 86 & -44660.6 & -44702.9 & false & 42.2392 \\\\\n",
       "\t87 & 87 & -44661.6 & -44702.9 & false & 41.2741 \\\\\n",
       "\t88 & 88 & -44662.5 & -44702.9 & false & 40.3417 \\\\\n",
       "\t89 & 89 & -44663.4 & -44702.9 & false & 39.4405 \\\\\n",
       "\t90 & 90 & -44664.3 & -44702.9 & false & 38.5691 \\\\\n",
       "\t91 & 91 & -44665.1 & -44702.9 & false & 37.7264 \\\\\n",
       "\t92 & 92 & -44665.9 & -44702.9 & false & 36.9109 \\\\\n",
       "\t93 & 93 & -44666.7 & -44702.9 & false & 36.1216 \\\\\n",
       "\t94 & 94 & -44667.5 & -44702.9 & false & 35.3573 \\\\\n",
       "\t95 & 95 & -44668.2 & -44702.9 & false & 34.6171 \\\\\n",
       "\t96 & 96 & -44669.0 & -44702.9 & false & 33.8998 \\\\\n",
       "\t97 & 97 & -44669.7 & -44702.9 & false & 33.2046 \\\\\n",
       "\t98 & 98 & -44670.3 & -44702.9 & false & 32.5306 \\\\\n",
       "\t99 & 99 & -44671.0 & -44702.9 & false & 31.8769 \\\\\n",
       "\t100 & 100 & -44671.6 & -44702.9 & false & 31.2427 \\\\\n",
       "\\end{tabular}\n"
      ],
      "text/plain": [
       "100×5 DataFrame\n",
       "│ Row │ n     │ myFun    │ quadgk   │ approx │ error   │\n",
       "│     │ \u001b[90mInt64\u001b[39m │ \u001b[90mFloat64\u001b[39m  │ \u001b[90mFloat64\u001b[39m  │ \u001b[90mBool\u001b[39m   │ \u001b[90mFloat64\u001b[39m │\n",
       "├─────┼───────┼──────────┼──────────┼────────┼─────────┤\n",
       "│ 1   │ 1     │ -60.0    │ -44702.9 │ false  │ 44642.9 │\n",
       "│ 2   │ 2     │ -4942.81 │ -44702.9 │ false  │ 39760.0 │\n",
       "│ 3   │ 3     │ -18349.9 │ -44702.9 │ false  │ 26353.0 │\n",
       "│ 4   │ 4     │ -27907.3 │ -44702.9 │ false  │ 16795.6 │\n",
       "│ 5   │ 5     │ -33340.0 │ -44702.9 │ false  │ 11362.9 │\n",
       "│ 6   │ 6     │ -21215.6 │ -44702.9 │ false  │ 23487.3 │\n",
       "│ 7   │ 7     │ -38625.1 │ -44702.9 │ false  │ 6077.78 │\n",
       "│ 8   │ 8     │ -39996.3 │ -44702.9 │ false  │ 4706.55 │\n",
       "│ 9   │ 9     │ -40955.1 │ -44702.9 │ false  │ 3747.76 │\n",
       "│ 10  │ 10    │ -41650.3 │ -44702.9 │ false  │ 3052.54 │\n",
       "⋮\n",
       "│ 90  │ 90    │ -44664.3 │ -44702.9 │ false  │ 38.5691 │\n",
       "│ 91  │ 91    │ -44665.1 │ -44702.9 │ false  │ 37.7264 │\n",
       "│ 92  │ 92    │ -44665.9 │ -44702.9 │ false  │ 36.9109 │\n",
       "│ 93  │ 93    │ -44666.7 │ -44702.9 │ false  │ 36.1216 │\n",
       "│ 94  │ 94    │ -44667.5 │ -44702.9 │ false  │ 35.3573 │\n",
       "│ 95  │ 95    │ -44668.2 │ -44702.9 │ false  │ 34.6171 │\n",
       "│ 96  │ 96    │ -44669.0 │ -44702.9 │ false  │ 33.8998 │\n",
       "│ 97  │ 97    │ -44669.7 │ -44702.9 │ false  │ 33.2046 │\n",
       "│ 98  │ 98    │ -44670.3 │ -44702.9 │ false  │ 32.5306 │\n",
       "│ 99  │ 99    │ -44671.0 │ -44702.9 │ false  │ 31.8769 │\n",
       "│ 100 │ 100   │ -44671.6 │ -44702.9 │ false  │ 31.2427 │"
      ]
     },
     "execution_count": 41,
     "metadata": {},
     "output_type": "execute_result"
    }
   ],
   "source": [
    "results"
   ]
  },
  {
   "cell_type": "code",
   "execution_count": 44,
   "metadata": {},
   "outputs": [
    {
     "data": {
      "image/svg+xml": [
       "<?xml version=\"1.0\" encoding=\"utf-8\"?>\n",
       "<svg xmlns=\"http://www.w3.org/2000/svg\" xmlns:xlink=\"http://www.w3.org/1999/xlink\" width=\"600\" height=\"400\" viewBox=\"0 0 2400 1600\">\n",
       "<defs>\n",
       "  <clipPath id=\"clip9400\">\n",
       "    <rect x=\"0\" y=\"0\" width=\"2000\" height=\"2000\"/>\n",
       "  </clipPath>\n",
       "</defs>\n",
       "<defs>\n",
       "  <clipPath id=\"clip9401\">\n",
       "    <rect x=\"0\" y=\"0\" width=\"2400\" height=\"1600\"/>\n",
       "  </clipPath>\n",
       "</defs>\n",
       "<polygon clip-path=\"url(#clip9401)\" points=\"\n",
       "0,1600 2400,1600 2400,0 0,0 \n",
       "  \" fill=\"#ffffff\" fill-rule=\"evenodd\" fill-opacity=\"1\"/>\n",
       "<defs>\n",
       "  <clipPath id=\"clip9402\">\n",
       "    <rect x=\"480\" y=\"0\" width=\"1681\" height=\"1600\"/>\n",
       "  </clipPath>\n",
       "</defs>\n",
       "<polygon clip-path=\"url(#clip9401)\" points=\"\n",
       "255.303,1503.47 2321.26,1503.47 2321.26,47.2441 255.303,47.2441 \n",
       "  \" fill=\"#ffffff\" fill-rule=\"evenodd\" fill-opacity=\"1\"/>\n",
       "<defs>\n",
       "  <clipPath id=\"clip9403\">\n",
       "    <rect x=\"255\" y=\"47\" width=\"2067\" height=\"1457\"/>\n",
       "  </clipPath>\n",
       "</defs>\n",
       "<polyline clip-path=\"url(#clip9403)\" style=\"stroke:#000000; stroke-width:2; stroke-opacity:0.1; fill:none\" points=\"\n",
       "  313.773,1503.47 313.773,47.2441 \n",
       "  \"/>\n",
       "<polyline clip-path=\"url(#clip9403)\" style=\"stroke:#000000; stroke-width:2; stroke-opacity:0.1; fill:none\" points=\"\n",
       "  963.445,1503.47 963.445,47.2441 \n",
       "  \"/>\n",
       "<polyline clip-path=\"url(#clip9403)\" style=\"stroke:#000000; stroke-width:2; stroke-opacity:0.1; fill:none\" points=\"\n",
       "  1613.12,1503.47 1613.12,47.2441 \n",
       "  \"/>\n",
       "<polyline clip-path=\"url(#clip9403)\" style=\"stroke:#000000; stroke-width:2; stroke-opacity:0.1; fill:none\" points=\"\n",
       "  2262.79,1503.47 2262.79,47.2441 \n",
       "  \"/>\n",
       "<polyline clip-path=\"url(#clip9403)\" style=\"stroke:#000000; stroke-width:2; stroke-opacity:0.1; fill:none\" points=\"\n",
       "  255.303,1463.22 2321.26,1463.22 \n",
       "  \"/>\n",
       "<polyline clip-path=\"url(#clip9403)\" style=\"stroke:#000000; stroke-width:2; stroke-opacity:0.1; fill:none\" points=\"\n",
       "  255.303,1155.28 2321.26,1155.28 \n",
       "  \"/>\n",
       "<polyline clip-path=\"url(#clip9403)\" style=\"stroke:#000000; stroke-width:2; stroke-opacity:0.1; fill:none\" points=\"\n",
       "  255.303,847.328 2321.26,847.328 \n",
       "  \"/>\n",
       "<polyline clip-path=\"url(#clip9403)\" style=\"stroke:#000000; stroke-width:2; stroke-opacity:0.1; fill:none\" points=\"\n",
       "  255.303,539.381 2321.26,539.381 \n",
       "  \"/>\n",
       "<polyline clip-path=\"url(#clip9403)\" style=\"stroke:#000000; stroke-width:2; stroke-opacity:0.1; fill:none\" points=\"\n",
       "  255.303,231.434 2321.26,231.434 \n",
       "  \"/>\n",
       "<polyline clip-path=\"url(#clip9401)\" style=\"stroke:#000000; stroke-width:4; stroke-opacity:1; fill:none\" points=\"\n",
       "  255.303,1503.47 2321.26,1503.47 \n",
       "  \"/>\n",
       "<polyline clip-path=\"url(#clip9401)\" style=\"stroke:#000000; stroke-width:4; stroke-opacity:1; fill:none\" points=\"\n",
       "  255.303,1503.47 255.303,47.2441 \n",
       "  \"/>\n",
       "<polyline clip-path=\"url(#clip9401)\" style=\"stroke:#000000; stroke-width:4; stroke-opacity:1; fill:none\" points=\"\n",
       "  313.773,1503.47 313.773,1481.63 \n",
       "  \"/>\n",
       "<polyline clip-path=\"url(#clip9401)\" style=\"stroke:#000000; stroke-width:4; stroke-opacity:1; fill:none\" points=\"\n",
       "  963.445,1503.47 963.445,1481.63 \n",
       "  \"/>\n",
       "<polyline clip-path=\"url(#clip9401)\" style=\"stroke:#000000; stroke-width:4; stroke-opacity:1; fill:none\" points=\"\n",
       "  1613.12,1503.47 1613.12,1481.63 \n",
       "  \"/>\n",
       "<polyline clip-path=\"url(#clip9401)\" style=\"stroke:#000000; stroke-width:4; stroke-opacity:1; fill:none\" points=\"\n",
       "  2262.79,1503.47 2262.79,1481.63 \n",
       "  \"/>\n",
       "<polyline clip-path=\"url(#clip9401)\" style=\"stroke:#000000; stroke-width:4; stroke-opacity:1; fill:none\" points=\"\n",
       "  255.303,1463.22 286.292,1463.22 \n",
       "  \"/>\n",
       "<polyline clip-path=\"url(#clip9401)\" style=\"stroke:#000000; stroke-width:4; stroke-opacity:1; fill:none\" points=\"\n",
       "  255.303,1155.28 286.292,1155.28 \n",
       "  \"/>\n",
       "<polyline clip-path=\"url(#clip9401)\" style=\"stroke:#000000; stroke-width:4; stroke-opacity:1; fill:none\" points=\"\n",
       "  255.303,847.328 286.292,847.328 \n",
       "  \"/>\n",
       "<polyline clip-path=\"url(#clip9401)\" style=\"stroke:#000000; stroke-width:4; stroke-opacity:1; fill:none\" points=\"\n",
       "  255.303,539.381 286.292,539.381 \n",
       "  \"/>\n",
       "<polyline clip-path=\"url(#clip9401)\" style=\"stroke:#000000; stroke-width:4; stroke-opacity:1; fill:none\" points=\"\n",
       "  255.303,231.434 286.292,231.434 \n",
       "  \"/>\n",
       "<g clip-path=\"url(#clip9401)\">\n",
       "<text style=\"fill:#000000; fill-opacity:1; font-family:Arial,Helvetica Neue,Helvetica,sans-serif; font-size:48px; text-anchor:middle;\" transform=\"rotate(0, 313.773, 1557.47)\" x=\"313.773\" y=\"1557.47\">0</text>\n",
       "</g>\n",
       "<g clip-path=\"url(#clip9401)\">\n",
       "<text style=\"fill:#000000; fill-opacity:1; font-family:Arial,Helvetica Neue,Helvetica,sans-serif; font-size:48px; text-anchor:middle;\" transform=\"rotate(0, 963.445, 1557.47)\" x=\"963.445\" y=\"1557.47\">10</text>\n",
       "</g>\n",
       "<g clip-path=\"url(#clip9401)\">\n",
       "<text style=\"fill:#000000; fill-opacity:1; font-family:Arial,Helvetica Neue,Helvetica,sans-serif; font-size:48px; text-anchor:middle;\" transform=\"rotate(0, 1613.12, 1557.47)\" x=\"1613.12\" y=\"1557.47\">20</text>\n",
       "</g>\n",
       "<g clip-path=\"url(#clip9401)\">\n",
       "<text style=\"fill:#000000; fill-opacity:1; font-family:Arial,Helvetica Neue,Helvetica,sans-serif; font-size:48px; text-anchor:middle;\" transform=\"rotate(0, 2262.79, 1557.47)\" x=\"2262.79\" y=\"1557.47\">30</text>\n",
       "</g>\n",
       "<g clip-path=\"url(#clip9401)\">\n",
       "<text style=\"fill:#000000; fill-opacity:1; font-family:Arial,Helvetica Neue,Helvetica,sans-serif; font-size:48px; text-anchor:end;\" transform=\"rotate(0, 231.303, 1480.72)\" x=\"231.303\" y=\"1480.72\">0</text>\n",
       "</g>\n",
       "<g clip-path=\"url(#clip9401)\">\n",
       "<text style=\"fill:#000000; fill-opacity:1; font-family:Arial,Helvetica Neue,Helvetica,sans-serif; font-size:48px; text-anchor:start;\" transform=\"rotate(0, 101.161, 1179)\" x=\"101.161\" y=\"1179\">1×10</text>\n",
       "</g>\n",
       "<g clip-path=\"url(#clip9401)\">\n",
       "<text style=\"fill:#000000; fill-opacity:1; font-family:Arial,Helvetica Neue,Helvetica,sans-serif; font-size:38px; text-anchor:start;\" transform=\"rotate(0, 209.558, 1151.59)\" x=\"209.558\" y=\"1151.59\">4</text>\n",
       "</g>\n",
       "<g clip-path=\"url(#clip9401)\">\n",
       "<text style=\"fill:#000000; fill-opacity:1; font-family:Arial,Helvetica Neue,Helvetica,sans-serif; font-size:48px; text-anchor:start;\" transform=\"rotate(0, 101.161, 871.056)\" x=\"101.161\" y=\"871.056\">2×10</text>\n",
       "</g>\n",
       "<g clip-path=\"url(#clip9401)\">\n",
       "<text style=\"fill:#000000; fill-opacity:1; font-family:Arial,Helvetica Neue,Helvetica,sans-serif; font-size:38px; text-anchor:start;\" transform=\"rotate(0, 209.558, 843.645)\" x=\"209.558\" y=\"843.645\">4</text>\n",
       "</g>\n",
       "<g clip-path=\"url(#clip9401)\">\n",
       "<text style=\"fill:#000000; fill-opacity:1; font-family:Arial,Helvetica Neue,Helvetica,sans-serif; font-size:48px; text-anchor:start;\" transform=\"rotate(0, 101.161, 563.109)\" x=\"101.161\" y=\"563.109\">3×10</text>\n",
       "</g>\n",
       "<g clip-path=\"url(#clip9401)\">\n",
       "<text style=\"fill:#000000; fill-opacity:1; font-family:Arial,Helvetica Neue,Helvetica,sans-serif; font-size:38px; text-anchor:start;\" transform=\"rotate(0, 209.558, 535.698)\" x=\"209.558\" y=\"535.698\">4</text>\n",
       "</g>\n",
       "<g clip-path=\"url(#clip9401)\">\n",
       "<text style=\"fill:#000000; fill-opacity:1; font-family:Arial,Helvetica Neue,Helvetica,sans-serif; font-size:48px; text-anchor:start;\" transform=\"rotate(0, 101.161, 255.161)\" x=\"101.161\" y=\"255.161\">4×10</text>\n",
       "</g>\n",
       "<g clip-path=\"url(#clip9401)\">\n",
       "<text style=\"fill:#000000; fill-opacity:1; font-family:Arial,Helvetica Neue,Helvetica,sans-serif; font-size:38px; text-anchor:start;\" transform=\"rotate(0, 209.558, 227.751)\" x=\"209.558\" y=\"227.751\">4</text>\n",
       "</g>\n",
       "<polyline clip-path=\"url(#clip9403)\" style=\"stroke:#009af9; stroke-width:4; stroke-opacity:1; fill:none\" points=\"\n",
       "  378.741,88.4582 443.708,238.823 508.675,651.69 573.642,946.008 638.609,1113.31 703.577,739.938 768.544,1276.06 833.511,1318.29 898.478,1347.81 963.445,1369.22 \n",
       "  1028.41,1385.22 1093.38,1397.47 1158.35,1407.06 1223.31,1414.71 1288.28,1420.89 1353.25,1425.97 1418.22,1430.19 1483.18,1433.73 1548.15,1436.74 1613.12,1439.3 \n",
       "  1678.08,1441.52 1743.05,1443.44 1808.02,1445.11 1872.99,1446.58 1937.95,1447.88 2002.92,1449.04 2067.89,1450.06 2132.85,1450.98 2197.82,1451.81 2262.79,1452.56 \n",
       "  2327.76,1453.23 2392.72,1453.85 2457.69,1454.4 2522.66,1454.91 2587.63,1455.38 2652.59,1455.81 2717.56,1456.21 2782.53,1456.57 2847.49,1456.91 2912.46,1457.22 \n",
       "  2977.43,1457.51 3042.4,1457.77 3107.36,1458.02 3172.33,1458.26 3237.3,1458.48 3302.26,1458.68 3367.23,1458.87 3432.2,1459.05 3497.17,1459.22 3562.13,1459.38 \n",
       "  3627.1,1459.53 3692.07,1459.67 3757.03,1459.8 3822,1459.93 3886.97,1460.04 3951.94,1460.16 4016.9,1460.26 4081.87,1460.36 4146.84,1460.46 4211.81,1460.55 \n",
       "  4276.77,1460.64 4341.74,1460.72 4406.71,1460.8 4471.67,1460.87 4536.64,1460.95 4601.61,1461.01 4666.58,1461.08 4731.54,1461.14 4796.51,1461.2 4861.48,1461.26 \n",
       "  4926.44,1461.31 4991.41,1461.37 5056.38,1461.42 5121.35,1461.47 5186.31,1461.51 5251.28,1461.56 5316.25,1461.6 5381.21,1461.64 5446.18,1461.68 5511.15,1461.72 \n",
       "  5576.12,1461.76 5641.08,1461.79 5706.05,1461.83 5771.02,1461.86 5835.99,1461.89 5900.95,1461.92 5965.92,1461.95 6030.89,1461.98 6095.85,1462.01 6160.82,1462.04 \n",
       "  6225.79,1462.06 6290.76,1462.09 6355.72,1462.11 6420.69,1462.13 6485.66,1462.16 6550.62,1462.18 6615.59,1462.2 6680.56,1462.22 6745.53,1462.24 6810.49,1462.26 \n",
       "  \n",
       "  \"/>\n",
       "<polygon clip-path=\"url(#clip9401)\" points=\"\n",
       "1608.07,251.724 2249.26,251.724 2249.26,130.764 1608.07,130.764 \n",
       "  \" fill=\"#ffffff\" fill-rule=\"evenodd\" fill-opacity=\"1\"/>\n",
       "<polyline clip-path=\"url(#clip9401)\" style=\"stroke:#000000; stroke-width:4; stroke-opacity:1; fill:none\" points=\"\n",
       "  1608.07,251.724 2249.26,251.724 2249.26,130.764 1608.07,130.764 1608.07,251.724 \n",
       "  \"/>\n",
       "<polyline clip-path=\"url(#clip9401)\" style=\"stroke:#009af9; stroke-width:4; stroke-opacity:1; fill:none\" points=\"\n",
       "  1632.07,191.244 1776.07,191.244 \n",
       "  \"/>\n",
       "<g clip-path=\"url(#clip9401)\">\n",
       "<text style=\"fill:#000000; fill-opacity:1; font-family:Arial,Helvetica Neue,Helvetica,sans-serif; font-size:48px; text-anchor:start;\" transform=\"rotate(0, 1800.07, 208.744)\" x=\"1800.07\" y=\"208.744\">midPointRule error</text>\n",
       "</g>\n",
       "</svg>\n"
      ]
     },
     "execution_count": 44,
     "metadata": {},
     "output_type": "execute_result"
    }
   ],
   "source": [
    "plot(results[:n], results[:error], label=\"midPointRule error\", xlims=[0,30])"
   ]
  }
 ],
 "metadata": {
  "kernelspec": {
   "display_name": "Julia 1.0.1",
   "language": "julia",
   "name": "julia-1.0"
  },
  "language_info": {
   "file_extension": ".jl",
   "mimetype": "application/julia",
   "name": "julia",
   "version": "1.0.1"
  }
 },
 "nbformat": 4,
 "nbformat_minor": 2
}
